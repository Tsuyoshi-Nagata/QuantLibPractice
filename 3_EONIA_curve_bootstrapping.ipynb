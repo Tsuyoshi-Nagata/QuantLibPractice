{
 "cells": [
  {
   "cell_type": "code",
   "execution_count": 1,
   "metadata": {},
   "outputs": [],
   "source": [
    "%matplotlib inline\n",
    "import math\n",
    "import utils"
   ]
  },
  {
   "cell_type": "code",
   "execution_count": 2,
   "metadata": {},
   "outputs": [],
   "source": [
    "import QuantLib as ql"
   ]
  },
  {
   "cell_type": "code",
   "execution_count": 3,
   "metadata": {},
   "outputs": [],
   "source": [
    "import matplotlib.pyplot as plt\n",
    "import numpy as np"
   ]
  },
  {
   "cell_type": "code",
   "execution_count": 4,
   "metadata": {},
   "outputs": [],
   "source": [
    "today = ql.Date(11, ql.December, 2012)\n",
    "ql.Settings.instance().evaluationDate = today"
   ]
  },
  {
   "cell_type": "code",
   "execution_count": 5,
   "metadata": {},
   "outputs": [],
   "source": [
    "helpers = [\n",
    "    ql.DepositRateHelper(ql.QuoteHandle(ql.SimpleQuote(rate/100)),\n",
    "                         ql.Period(1,ql.Days), fixingDays,\n",
    "                         ql.TARGET(), ql.Following,\n",
    "                         False, ql.Actual360())\n",
    "    for rate, fixingDays in [(0.04, 0), (0.04, 1), (0.04, 2)]\n",
    "]"
   ]
  },
  {
   "cell_type": "code",
   "execution_count": 6,
   "metadata": {},
   "outputs": [],
   "source": [
    "eonia = ql.Eonia()"
   ]
  },
  {
   "cell_type": "code",
   "execution_count": 7,
   "metadata": {},
   "outputs": [],
   "source": [
    "helpers += [\n",
    "    ql.OISRateHelper(2, ql.Period(*tenor),\n",
    "                     ql.QuoteHandle(ql.SimpleQuote(rate/100)), eonia)\n",
    "    for rate, tenor in [(0.070, (1,ql.Weeks)), (0.069, (2,ql.Weeks)),\n",
    "                        (0.078, (3,ql.Weeks)), (0.074, (1,ql.Months))]\n",
    "]"
   ]
  },
  {
   "cell_type": "code",
   "execution_count": 8,
   "metadata": {},
   "outputs": [],
   "source": [
    "helpers += [\n",
    "    ql.DatedOISRateHelper(start_date, end_date,\n",
    "    ql.QuoteHandle(ql.SimpleQuote(rate/100)), eonia)\n",
    "    for rate, start_date, end_date in [\n",
    "        ( 0.046, ql.Date(16,ql.January,2013), ql.Date(13,ql.February,2013)),\n",
    "        ( 0.016, ql.Date(13,ql.February,2013), ql.Date(13,ql.March,2013)),\n",
    "        (-0.007, ql.Date(13,ql.March,2013), ql.Date(10,ql.April,2013)),\n",
    "        (-0.013, ql.Date(10,ql.April,2013), ql.Date(8,ql.May,2013)),\n",
    "        (-0.014, ql.Date(8,ql.May,2013), ql.Date(12,ql.June,2013))]\n",
    "]"
   ]
  },
  {
   "cell_type": "code",
   "execution_count": 9,
   "metadata": {},
   "outputs": [],
   "source": [
    "eonia_curve_c = ql.PiecewiseLogCubicDiscount(0, ql.TARGET(),\n",
    "                                             helpers, ql.Actual365Fixed())\n",
    "eonia_curve_c.enableExtrapolation()"
   ]
  },
  {
   "cell_type": "code",
   "execution_count": 10,
   "metadata": {},
   "outputs": [],
   "source": [
    "today = eonia_curve_c.referenceDate()\n",
    "end = today + ql.Period(2,ql.Years)\n",
    "dates = [ ql.Date(serial) for serial in range(today.serialNumber(),\n",
    "                                              end.serialNumber()+1) ]\n",
    "rates_c = [ eonia_curve_c.forwardRate(d, ql.TARGET().advance(d,1,ql.Days),\n",
    "                                      ql.Actual360(), ql.Simple).rate()\n",
    "            for d in dates ]"
   ]
  },
  {
   "cell_type": "code",
   "execution_count": 11,
   "metadata": {
    "scrolled": false
   },
   "outputs": [
    {
     "ename": "AttributeError",
     "evalue": "module 'utils' has no attribute 'plot'",
     "output_type": "error",
     "traceback": [
      "\u001b[1;31m---------------------------------------------------------------------------\u001b[0m",
      "\u001b[1;31mAttributeError\u001b[0m                            Traceback (most recent call last)",
      "\u001b[1;32m<ipython-input-11-698406f36d2c>\u001b[0m in \u001b[0;36m<module>\u001b[1;34m\u001b[0m\n\u001b[0;32m      2\u001b[0m \u001b[0m以下に利用されている\u001b[0m\u001b[0;31m’\u001b[0m\u001b[0mutils\u001b[0m\u001b[0;31m’\u001b[0m\u001b[0mモジュールが筆者独自のもののため\u001b[0m\u001b[0;31m、\u001b[0m\u001b[0mグラフは一時中断\u001b[0m\u001b[1;33m\u001b[0m\u001b[1;33m\u001b[0m\u001b[0m\n\u001b[0;32m      3\u001b[0m \"\"\"\n\u001b[1;32m----> 4\u001b[1;33m \u001b[0m_\u001b[0m\u001b[1;33m,\u001b[0m \u001b[0max\u001b[0m \u001b[1;33m=\u001b[0m \u001b[0mutils\u001b[0m\u001b[1;33m.\u001b[0m\u001b[0mplot\u001b[0m\u001b[1;33m(\u001b[0m\u001b[1;33m)\u001b[0m\u001b[1;33m\u001b[0m\u001b[1;33m\u001b[0m\u001b[0m\n\u001b[0m\u001b[0;32m      5\u001b[0m \u001b[0mutils\u001b[0m\u001b[1;33m.\u001b[0m\u001b[0mhighlight_x_axis\u001b[0m\u001b[1;33m(\u001b[0m\u001b[0max\u001b[0m\u001b[1;33m)\u001b[0m\u001b[1;33m\u001b[0m\u001b[1;33m\u001b[0m\u001b[0m\n\u001b[0;32m      6\u001b[0m \u001b[0mutils\u001b[0m\u001b[1;33m.\u001b[0m\u001b[0mplot_curve\u001b[0m\u001b[1;33m(\u001b[0m\u001b[0max\u001b[0m\u001b[1;33m,\u001b[0m \u001b[0mdates\u001b[0m\u001b[1;33m,\u001b[0m \u001b[1;33m[\u001b[0m\u001b[1;33m(\u001b[0m\u001b[0mrates_c\u001b[0m\u001b[1;33m,\u001b[0m\u001b[1;34m'-'\u001b[0m\u001b[1;33m)\u001b[0m\u001b[1;33m]\u001b[0m\u001b[1;33m,\u001b[0m \u001b[0mformat_rates\u001b[0m\u001b[1;33m=\u001b[0m\u001b[1;32mTrue\u001b[0m\u001b[1;33m)\u001b[0m\u001b[1;33m\u001b[0m\u001b[1;33m\u001b[0m\u001b[0m\n",
      "\u001b[1;31mAttributeError\u001b[0m: module 'utils' has no attribute 'plot'"
     ]
    }
   ],
   "source": [
    "\"\"\"\n",
    "以下に利用されている’utils’モジュールが筆者独自のもののため、グラフは一時中断\n",
    "\"\"\"\n",
    "_, ax = utils.plot()\n",
    "utils.highlight_x_axis(ax)\n",
    "utils.plot_curve(ax, dates, [(rates_c,'-')], format_rates=True)"
   ]
  },
  {
   "cell_type": "code",
   "execution_count": 12,
   "metadata": {},
   "outputs": [],
   "source": [
    "eonia_curve_ff = ql.PiecewiseFlatForward(0, ql.TARGET(),\n",
    "                                         helpers, ql.Actual365Fixed())\n",
    "eonia_curve_ff.enableExtrapolation()"
   ]
  },
  {
   "cell_type": "code",
   "execution_count": 13,
   "metadata": {},
   "outputs": [],
   "source": [
    "\"\"\"\n",
    "金利上昇を分かりやすくするためにグラフを最初の6カ月に絞る\n",
    "\"\"\"\n",
    "end = today + ql.Period(6,ql.Months)\n",
    "dates = [ ql.Date(serial) for serial in range(today.serialNumber(),\n",
    "                                              end.serialNumber()+1) ]\n",
    "rates_ff = [ eonia_curve_ff.forwardRate(d, ql.TARGET().advance(d,1,ql.Days),\n",
    "                                        ql.Actual360(), ql.Simple).rate()\n",
    "            for d in dates ]"
   ]
  },
  {
   "cell_type": "code",
   "execution_count": 14,
   "metadata": {},
   "outputs": [
    {
     "ename": "AttributeError",
     "evalue": "module 'utils' has no attribute 'plot'",
     "output_type": "error",
     "traceback": [
      "\u001b[1;31m---------------------------------------------------------------------------\u001b[0m",
      "\u001b[1;31mAttributeError\u001b[0m                            Traceback (most recent call last)",
      "\u001b[1;32m<ipython-input-14-091c9b5273e7>\u001b[0m in \u001b[0;36m<module>\u001b[1;34m\u001b[0m\n\u001b[1;32m----> 1\u001b[1;33m \u001b[0m_\u001b[0m\u001b[1;33m,\u001b[0m \u001b[0max\u001b[0m \u001b[1;33m=\u001b[0m \u001b[0mutils\u001b[0m\u001b[1;33m.\u001b[0m\u001b[0mplot\u001b[0m\u001b[1;33m(\u001b[0m\u001b[1;33m)\u001b[0m\u001b[1;33m\u001b[0m\u001b[1;33m\u001b[0m\u001b[0m\n\u001b[0m\u001b[0;32m      2\u001b[0m \u001b[0mutils\u001b[0m\u001b[1;33m.\u001b[0m\u001b[0mhighlight_x_axis\u001b[0m\u001b[1;33m(\u001b[0m\u001b[0max\u001b[0m\u001b[1;33m)\u001b[0m\u001b[1;33m\u001b[0m\u001b[1;33m\u001b[0m\u001b[0m\n\u001b[0;32m      3\u001b[0m \u001b[0mutils\u001b[0m\u001b[1;33m.\u001b[0m\u001b[0mplot_curve\u001b[0m\u001b[1;33m(\u001b[0m\u001b[0max\u001b[0m\u001b[1;33m,\u001b[0m \u001b[0mdates\u001b[0m\u001b[1;33m,\u001b[0m \u001b[1;33m[\u001b[0m\u001b[1;33m(\u001b[0m\u001b[0mrates_ff\u001b[0m\u001b[1;33m,\u001b[0m\u001b[1;34m'-'\u001b[0m\u001b[1;33m)\u001b[0m\u001b[1;33m]\u001b[0m\u001b[1;33m,\u001b[0m \u001b[0mformat_rates\u001b[0m\u001b[1;33m=\u001b[0m\u001b[1;32mTrue\u001b[0m\u001b[1;33m)\u001b[0m\u001b[1;33m\u001b[0m\u001b[1;33m\u001b[0m\u001b[0m\n",
      "\u001b[1;31mAttributeError\u001b[0m: module 'utils' has no attribute 'plot'"
     ]
    }
   ],
   "source": [
    " _, ax = utils.plot()\n",
    "utils.highlight_x_axis(ax)\n",
    "utils.plot_curve(ax, dates, [(rates_ff,'-')], format_rates=True)"
   ]
  },
  {
   "cell_type": "code",
   "execution_count": 15,
   "metadata": {},
   "outputs": [],
   "source": [
    "nodes = list(eonia_curve_ff.nodes())"
   ]
  },
  {
   "cell_type": "code",
   "execution_count": 16,
   "metadata": {},
   "outputs": [
    {
     "data": {
      "text/plain": [
       "[(Date(11,12,2012), 0.00040555533025081675),\n",
       " (Date(12,12,2012), 0.00040555533025081675),\n",
       " (Date(13,12,2012), 0.00040555533047721286),\n",
       " (Date(14,12,2012), 0.00040555533047721286),\n",
       " (Date(20,12,2012), 0.0007604110692568178),\n",
       " (Date(27,12,2012), 0.0006894305026004767),\n",
       " (Date(3,1,2013), 0.0009732981324671213),\n",
       " (Date(14,1,2013), 0.0006728161005748453),\n",
       " (Date(13,2,2013), 0.000466380545910482)]"
      ]
     },
     "execution_count": 16,
     "metadata": {},
     "output_type": "execute_result"
    }
   ],
   "source": [
    "nodes[:9]"
   ]
  },
  {
   "cell_type": "code",
   "execution_count": 17,
   "metadata": {
    "scrolled": true
   },
   "outputs": [
    {
     "data": {
      "text/plain": [
       "[(Date(11,12,2012), 0.00040555533025081675),\n",
       " (Date(12,12,2012), 0.00040555533025081675),\n",
       " (Date(13,12,2012), 0.00040555533047721286),\n",
       " (Date(14,12,2012), 0.00040555533047721286),\n",
       " (Date(20,12,2012), 0.0007604110692568178),\n",
       " (Date(27,12,2012), 0.0006894305026004767),\n",
       " (Date(3,1,2013), 0.000681123301587661),\n",
       " (Date(14,1,2013), 0.0006728161005748453),\n",
       " (Date(13,2,2013), 0.000466380545910482)]"
      ]
     },
     "execution_count": 17,
     "metadata": {},
     "output_type": "execute_result"
    }
   ],
   "source": [
    "nodes[6] = (nodes[6][0], (nodes[5][1]+nodes[7][1])/2.0)\n",
    "nodes[:9]"
   ]
  },
  {
   "cell_type": "code",
   "execution_count": 18,
   "metadata": {},
   "outputs": [],
   "source": [
    "temp_dates, temp_rates = zip(*nodes)\n",
    "temp_curve = ql.ForwardCurve(temp_dates, temp_rates,\n",
    "                             eonia_curve_ff.dayCounter())"
   ]
  },
  {
   "cell_type": "code",
   "execution_count": 32,
   "metadata": {},
   "outputs": [
    {
     "ename": "RuntimeError",
     "evalue": "time (0.580822) is past max curve time (0.50137)",
     "output_type": "error",
     "traceback": [
      "\u001b[1;31m---------------------------------------------------------------------------\u001b[0m",
      "\u001b[1;31mRuntimeError\u001b[0m                              Traceback (most recent call last)",
      "\u001b[1;32m<ipython-input-32-eec40574d844>\u001b[0m in \u001b[0;36m<module>\u001b[1;34m\u001b[0m\n\u001b[0;32m      1\u001b[0m \u001b[1;31m#ここで過去のグラフに調整後のグラフを追加する\u001b[0m\u001b[1;33m\u001b[0m\u001b[1;33m\u001b[0m\u001b[1;33m\u001b[0m\u001b[0m\n\u001b[1;32m----> 2\u001b[1;33m temp_rates = [ temp_curve.forwardRate(d, ql.TARGET().advance(d,1,ql.Days),\n\u001b[0m\u001b[0;32m      3\u001b[0m                                       ql.Actual360(), ql.Simple).rate()\n\u001b[0;32m      4\u001b[0m               for d in dates ]\n",
      "\u001b[1;32m<ipython-input-32-eec40574d844>\u001b[0m in \u001b[0;36m<listcomp>\u001b[1;34m(.0)\u001b[0m\n\u001b[0;32m      1\u001b[0m \u001b[1;31m#ここで過去のグラフに調整後のグラフを追加する\u001b[0m\u001b[1;33m\u001b[0m\u001b[1;33m\u001b[0m\u001b[1;33m\u001b[0m\u001b[0m\n\u001b[1;32m----> 2\u001b[1;33m temp_rates = [ temp_curve.forwardRate(d, ql.TARGET().advance(d,1,ql.Days),\n\u001b[0m\u001b[0;32m      3\u001b[0m                                       ql.Actual360(), ql.Simple).rate()\n\u001b[0;32m      4\u001b[0m               for d in dates ]\n",
      "\u001b[1;32mC:\\ProgramData\\Anaconda3\\lib\\site-packages\\QuantLib\\QuantLib.py\u001b[0m in \u001b[0;36mforwardRate\u001b[1;34m(self, *args)\u001b[0m\n\u001b[0;32m   5054\u001b[0m \u001b[1;33m\u001b[0m\u001b[0m\n\u001b[0;32m   5055\u001b[0m     \u001b[1;32mdef\u001b[0m \u001b[0mforwardRate\u001b[0m\u001b[1;33m(\u001b[0m\u001b[0mself\u001b[0m\u001b[1;33m,\u001b[0m \u001b[1;33m*\u001b[0m\u001b[0margs\u001b[0m\u001b[1;33m)\u001b[0m\u001b[1;33m:\u001b[0m\u001b[1;33m\u001b[0m\u001b[1;33m\u001b[0m\u001b[0m\n\u001b[1;32m-> 5056\u001b[1;33m         \u001b[1;32mreturn\u001b[0m \u001b[0m_QuantLib\u001b[0m\u001b[1;33m.\u001b[0m\u001b[0mYieldTermStructure_forwardRate\u001b[0m\u001b[1;33m(\u001b[0m\u001b[0mself\u001b[0m\u001b[1;33m,\u001b[0m \u001b[1;33m*\u001b[0m\u001b[0margs\u001b[0m\u001b[1;33m)\u001b[0m\u001b[1;33m\u001b[0m\u001b[1;33m\u001b[0m\u001b[0m\n\u001b[0m\u001b[0;32m   5057\u001b[0m     \u001b[0m__swig_destroy__\u001b[0m \u001b[1;33m=\u001b[0m \u001b[0m_QuantLib\u001b[0m\u001b[1;33m.\u001b[0m\u001b[0mdelete_YieldTermStructure\u001b[0m\u001b[1;33m\u001b[0m\u001b[1;33m\u001b[0m\u001b[0m\n\u001b[0;32m   5058\u001b[0m \u001b[1;33m\u001b[0m\u001b[0m\n",
      "\u001b[1;31mRuntimeError\u001b[0m: time (0.580822) is past max curve time (0.50137)"
     ]
    }
   ],
   "source": [
    "#ここで過去のグラフに調整後のグラフを追加する\n",
    "temp_rates = [ temp_curve.forwardRate(d, ql.TARGET().advance(d,1,ql.Days),\n",
    "                                      ql.Actual360(), ql.Simple).rate()\n",
    "              for d in dates ]"
   ]
  },
  {
   "cell_type": "code",
   "execution_count": 20,
   "metadata": {},
   "outputs": [
    {
     "ename": "AttributeError",
     "evalue": "module 'utils' has no attribute 'plot'",
     "output_type": "error",
     "traceback": [
      "\u001b[1;31m---------------------------------------------------------------------------\u001b[0m",
      "\u001b[1;31mAttributeError\u001b[0m                            Traceback (most recent call last)",
      "\u001b[1;32m<ipython-input-20-a988e4d7fd7b>\u001b[0m in \u001b[0;36m<module>\u001b[1;34m\u001b[0m\n\u001b[1;32m----> 1\u001b[1;33m \u001b[0m_\u001b[0m\u001b[1;33m,\u001b[0m \u001b[0max\u001b[0m \u001b[1;33m=\u001b[0m \u001b[0mutils\u001b[0m\u001b[1;33m.\u001b[0m\u001b[0mplot\u001b[0m\u001b[1;33m(\u001b[0m\u001b[1;33m)\u001b[0m\u001b[1;33m\u001b[0m\u001b[1;33m\u001b[0m\u001b[0m\n\u001b[0m\u001b[0;32m      2\u001b[0m \u001b[0mutils\u001b[0m\u001b[1;33m.\u001b[0m\u001b[0mhighlight_x_axis\u001b[0m\u001b[1;33m(\u001b[0m\u001b[0max\u001b[0m\u001b[1;33m)\u001b[0m\u001b[1;33m\u001b[0m\u001b[1;33m\u001b[0m\u001b[0m\n\u001b[0;32m      3\u001b[0m utils.plot_curve(ax, dates, [(temp_rates,'-'), (rates_ff,'--')],\n\u001b[0;32m      4\u001b[0m                 format_rates=True)\n",
      "\u001b[1;31mAttributeError\u001b[0m: module 'utils' has no attribute 'plot'"
     ]
    }
   ],
   "source": [
    " _, ax = utils.plot()\n",
    "utils.highlight_x_axis(ax)\n",
    "utils.plot_curve(ax, dates, [(temp_rates,'-'), (rates_ff,'--')],\n",
    "                 format_rates=True)"
   ]
  },
  {
   "cell_type": "code",
   "execution_count": 21,
   "metadata": {},
   "outputs": [],
   "source": [
    "d1 = ql.Date(31,ql.December,2012) - ql.Period(1,ql.Weeks)\n",
    "d2 = ql.Date(31,ql.December,2012) + ql.Period(1,ql.Weeks)"
   ]
  },
  {
   "cell_type": "code",
   "execution_count": 22,
   "metadata": {},
   "outputs": [
    {
     "ename": "AttributeError",
     "evalue": "module 'utils' has no attribute 'format_rate'",
     "output_type": "error",
     "traceback": [
      "\u001b[1;31m---------------------------------------------------------------------------\u001b[0m",
      "\u001b[1;31mAttributeError\u001b[0m                            Traceback (most recent call last)",
      "\u001b[1;32m<ipython-input-22-af9e6aa86ae0>\u001b[0m in \u001b[0;36m<module>\u001b[1;34m\u001b[0m\n\u001b[0;32m      1\u001b[0m \u001b[0mF\u001b[0m \u001b[1;33m=\u001b[0m \u001b[0meonia_curve_ff\u001b[0m\u001b[1;33m.\u001b[0m\u001b[0mforwardRate\u001b[0m\u001b[1;33m(\u001b[0m\u001b[0md1\u001b[0m\u001b[1;33m,\u001b[0m \u001b[0md2\u001b[0m\u001b[1;33m,\u001b[0m \u001b[0mql\u001b[0m\u001b[1;33m.\u001b[0m\u001b[0mActual360\u001b[0m\u001b[1;33m(\u001b[0m\u001b[1;33m)\u001b[0m\u001b[1;33m,\u001b[0m \u001b[0mql\u001b[0m\u001b[1;33m.\u001b[0m\u001b[0mSimple\u001b[0m\u001b[1;33m)\u001b[0m\u001b[1;33m.\u001b[0m\u001b[0mrate\u001b[0m\u001b[1;33m(\u001b[0m\u001b[1;33m)\u001b[0m\u001b[1;33m\u001b[0m\u001b[1;33m\u001b[0m\u001b[0m\n\u001b[0;32m      2\u001b[0m \u001b[0mF_1\u001b[0m \u001b[1;33m=\u001b[0m \u001b[0mtemp_curve\u001b[0m\u001b[1;33m.\u001b[0m\u001b[0mforwardRate\u001b[0m\u001b[1;33m(\u001b[0m\u001b[0md1\u001b[0m\u001b[1;33m,\u001b[0m \u001b[0md2\u001b[0m\u001b[1;33m,\u001b[0m \u001b[0mql\u001b[0m\u001b[1;33m.\u001b[0m\u001b[0mActual360\u001b[0m\u001b[1;33m(\u001b[0m\u001b[1;33m)\u001b[0m\u001b[1;33m,\u001b[0m \u001b[0mql\u001b[0m\u001b[1;33m.\u001b[0m\u001b[0mSimple\u001b[0m\u001b[1;33m)\u001b[0m\u001b[1;33m.\u001b[0m\u001b[0mrate\u001b[0m\u001b[1;33m(\u001b[0m\u001b[1;33m)\u001b[0m\u001b[1;33m\u001b[0m\u001b[1;33m\u001b[0m\u001b[0m\n\u001b[1;32m----> 3\u001b[1;33m \u001b[0mprint\u001b[0m\u001b[1;33m(\u001b[0m\u001b[0mutils\u001b[0m\u001b[1;33m.\u001b[0m\u001b[0mformat_rate\u001b[0m\u001b[1;33m(\u001b[0m\u001b[0mF\u001b[0m\u001b[1;33m,\u001b[0m\u001b[0mdigits\u001b[0m\u001b[1;33m=\u001b[0m\u001b[1;36m3\u001b[0m\u001b[1;33m)\u001b[0m\u001b[1;33m)\u001b[0m\u001b[1;33m\u001b[0m\u001b[1;33m\u001b[0m\u001b[0m\n\u001b[0m\u001b[0;32m      4\u001b[0m \u001b[0mprint\u001b[0m\u001b[1;33m(\u001b[0m\u001b[0mutils\u001b[0m\u001b[1;33m.\u001b[0m\u001b[0mformat_rate\u001b[0m\u001b[1;33m(\u001b[0m\u001b[0mF_1\u001b[0m\u001b[1;33m,\u001b[0m\u001b[0mdigits\u001b[0m\u001b[1;33m=\u001b[0m\u001b[1;36m3\u001b[0m\u001b[1;33m)\u001b[0m\u001b[1;33m)\u001b[0m\u001b[1;33m\u001b[0m\u001b[1;33m\u001b[0m\u001b[0m\n",
      "\u001b[1;31mAttributeError\u001b[0m: module 'utils' has no attribute 'format_rate'"
     ]
    }
   ],
   "source": [
    "F = eonia_curve_ff.forwardRate(d1, d2, ql.Actual360(), ql.Simple).rate()\n",
    "F_1 = temp_curve.forwardRate(d1, d2, ql.Actual360(), ql.Simple).rate()\n",
    "print(utils.format_rate(F,digits=3))\n",
    "print(utils.format_rate(F_1,digits=3))"
   ]
  },
  {
   "cell_type": "code",
   "execution_count": 23,
   "metadata": {},
   "outputs": [
    {
     "ename": "AttributeError",
     "evalue": "module 'utils' has no attribute 'format_rate'",
     "output_type": "error",
     "traceback": [
      "\u001b[1;31m---------------------------------------------------------------------------\u001b[0m",
      "\u001b[1;31mAttributeError\u001b[0m                            Traceback (most recent call last)",
      "\u001b[1;32m<ipython-input-23-0bd1f2ed3aa9>\u001b[0m in \u001b[0;36m<module>\u001b[1;34m\u001b[0m\n\u001b[0;32m      3\u001b[0m                                                ql.Date(2,ql.January,2013))\n\u001b[0;32m      4\u001b[0m \u001b[0mJ\u001b[0m \u001b[1;33m=\u001b[0m \u001b[1;33m(\u001b[0m\u001b[0mF\u001b[0m\u001b[1;33m-\u001b[0m\u001b[0mF_1\u001b[0m\u001b[1;33m)\u001b[0m\u001b[1;33m*\u001b[0m\u001b[0mt12\u001b[0m\u001b[1;33m/\u001b[0m\u001b[0mt_j\u001b[0m\u001b[1;33m\u001b[0m\u001b[1;33m\u001b[0m\u001b[0m\n\u001b[1;32m----> 5\u001b[1;33m \u001b[0mprint\u001b[0m\u001b[1;33m(\u001b[0m\u001b[0mutils\u001b[0m\u001b[1;33m.\u001b[0m\u001b[0mformat_rate\u001b[0m\u001b[1;33m(\u001b[0m\u001b[0mJ\u001b[0m\u001b[1;33m,\u001b[0m\u001b[0mdigits\u001b[0m\u001b[1;33m=\u001b[0m\u001b[1;36m3\u001b[0m\u001b[1;33m)\u001b[0m\u001b[1;33m)\u001b[0m\u001b[1;33m\u001b[0m\u001b[1;33m\u001b[0m\u001b[0m\n\u001b[0m",
      "\u001b[1;31mAttributeError\u001b[0m: module 'utils' has no attribute 'format_rate'"
     ]
    }
   ],
   "source": [
    "t12 = eonia_curve_ff.dayCounter().yearFraction(d1,d2)\n",
    "t_j = eonia_curve_ff.dayCounter().yearFraction(ql.Date(31,ql.December,2012),\n",
    "                                               ql.Date(2,ql.January,2013))\n",
    "J = (F-F_1)*t12/t_j\n",
    "print(utils.format_rate(J,digits=3))"
   ]
  },
  {
   "cell_type": "code",
   "execution_count": 24,
   "metadata": {},
   "outputs": [],
   "source": [
    "B = 1.0/(1.0+J*t_j)\n",
    "jumps = [ql.QuoteHandle(ql.SimpleQuote(B))]\n",
    "jump_dates = [ql.Date(31,ql.December,2012)]\n",
    "eonia_curve_j = ql.PiecewiseFlatForward(0, ql.TARGET(),\n",
    "                                        helpers, ql.Actual365Fixed(),\n",
    "                                        jumps, jump_dates)"
   ]
  },
  {
   "cell_type": "code",
   "execution_count": 25,
   "metadata": {},
   "outputs": [],
   "source": [
    "rates_j = [ eonia_curve_j.forwardRate(d, ql.TARGET().advance(d,1,ql.Days),\n",
    "                                      ql.Actual360(), ql.Simple).rate()\n",
    "for d in dates ]"
   ]
  },
  {
   "cell_type": "code",
   "execution_count": 26,
   "metadata": {},
   "outputs": [
    {
     "ename": "AttributeError",
     "evalue": "module 'utils' has no attribute 'plot'",
     "output_type": "error",
     "traceback": [
      "\u001b[1;31m---------------------------------------------------------------------------\u001b[0m",
      "\u001b[1;31mAttributeError\u001b[0m                            Traceback (most recent call last)",
      "\u001b[1;32m<ipython-input-26-d227ec1c84fb>\u001b[0m in \u001b[0;36m<module>\u001b[1;34m\u001b[0m\n\u001b[1;32m----> 1\u001b[1;33m \u001b[0m_\u001b[0m\u001b[1;33m,\u001b[0m \u001b[0max\u001b[0m \u001b[1;33m=\u001b[0m \u001b[0mutils\u001b[0m\u001b[1;33m.\u001b[0m\u001b[0mplot\u001b[0m\u001b[1;33m(\u001b[0m\u001b[1;33m)\u001b[0m\u001b[1;33m\u001b[0m\u001b[1;33m\u001b[0m\u001b[0m\n\u001b[0m\u001b[0;32m      2\u001b[0m \u001b[0mutils\u001b[0m\u001b[1;33m.\u001b[0m\u001b[0mhighlight_x_axis\u001b[0m\u001b[1;33m(\u001b[0m\u001b[0max\u001b[0m\u001b[1;33m)\u001b[0m\u001b[1;33m\u001b[0m\u001b[1;33m\u001b[0m\u001b[0m\n\u001b[0;32m      3\u001b[0m utils.plot_curve(ax, dates, [(rates_ff,'-'), (rates_j,'o')],\n\u001b[0;32m      4\u001b[0m                 format_rates=True)\n",
      "\u001b[1;31mAttributeError\u001b[0m: module 'utils' has no attribute 'plot'"
     ]
    }
   ],
   "source": [
    " _, ax = utils.plot()\n",
    "utils.highlight_x_axis(ax)\n",
    "utils.plot_curve(ax, dates, [(rates_ff,'-'), (rates_j,'o')],\n",
    "                 format_rates=True)"
   ]
  },
  {
   "cell_type": "code",
   "execution_count": 27,
   "metadata": {},
   "outputs": [],
   "source": [
    "eonia_curve = ql.PiecewiseLogCubicDiscount(0, ql.TARGET(),\n",
    "                                           helpers, ql.Actual365Fixed(),\n",
    "                                           jumps, jump_dates)\n",
    "eonia_curve.enableExtrapolation()"
   ]
  },
  {
   "cell_type": "code",
   "execution_count": 28,
   "metadata": {},
   "outputs": [],
   "source": [
    "rates_c = [ eonia_curve_c.forwardRate(d, ql.TARGET().advance(d,1,ql.Days),\n",
    "                                      ql.Actual360(), ql.Simple).rate()\n",
    "           for d in dates ]\n",
    "rates = [ eonia_curve.forwardRate(d, ql.TARGET().advance(d,1,ql.Days),\n",
    "                                  ql.Actual360(), ql.Simple).rate()\n",
    "for d in dates ]"
   ]
  },
  {
   "cell_type": "code",
   "execution_count": 29,
   "metadata": {},
   "outputs": [
    {
     "ename": "AttributeError",
     "evalue": "module 'utils' has no attribute 'plot'",
     "output_type": "error",
     "traceback": [
      "\u001b[1;31m---------------------------------------------------------------------------\u001b[0m",
      "\u001b[1;31mAttributeError\u001b[0m                            Traceback (most recent call last)",
      "\u001b[1;32m<ipython-input-29-b27291524193>\u001b[0m in \u001b[0;36m<module>\u001b[1;34m\u001b[0m\n\u001b[1;32m----> 1\u001b[1;33m \u001b[0m_\u001b[0m\u001b[1;33m,\u001b[0m \u001b[0max\u001b[0m \u001b[1;33m=\u001b[0m \u001b[0mutils\u001b[0m\u001b[1;33m.\u001b[0m\u001b[0mplot\u001b[0m\u001b[1;33m(\u001b[0m\u001b[1;33m)\u001b[0m\u001b[1;33m\u001b[0m\u001b[1;33m\u001b[0m\u001b[0m\n\u001b[0m\u001b[0;32m      2\u001b[0m \u001b[0mutils\u001b[0m\u001b[1;33m.\u001b[0m\u001b[0mhighlight_x_axis\u001b[0m\u001b[1;33m(\u001b[0m\u001b[0max\u001b[0m\u001b[1;33m)\u001b[0m\u001b[1;33m\u001b[0m\u001b[1;33m\u001b[0m\u001b[0m\n\u001b[0;32m      3\u001b[0m utils.plot_curve(ax, dates, [(rates_c,'-'), (rates,'o')],\n\u001b[0;32m      4\u001b[0m                  format_rates=True)\n",
      "\u001b[1;31mAttributeError\u001b[0m: module 'utils' has no attribute 'plot'"
     ]
    }
   ],
   "source": [
    "_, ax = utils.plot()\n",
    "utils.highlight_x_axis(ax)\n",
    "utils.plot_curve(ax, dates, [(rates_c,'-'), (rates,'o')],\n",
    "                 format_rates=True)"
   ]
  },
  {
   "cell_type": "code",
   "execution_count": 30,
   "metadata": {},
   "outputs": [
    {
     "ename": "AttributeError",
     "evalue": "module 'utils' has no attribute 'plot'",
     "output_type": "error",
     "traceback": [
      "\u001b[1;31m---------------------------------------------------------------------------\u001b[0m",
      "\u001b[1;31mAttributeError\u001b[0m                            Traceback (most recent call last)",
      "\u001b[1;32m<ipython-input-30-860784877fd1>\u001b[0m in \u001b[0;36m<module>\u001b[1;34m\u001b[0m\n\u001b[0;32m      3\u001b[0m                                   ql.Actual360(), ql.Simple).rate()\n\u001b[0;32m      4\u001b[0m          for d in dates ]\n\u001b[1;32m----> 5\u001b[1;33m \u001b[0m_\u001b[0m\u001b[1;33m,\u001b[0m \u001b[0max\u001b[0m \u001b[1;33m=\u001b[0m \u001b[0mutils\u001b[0m\u001b[1;33m.\u001b[0m\u001b[0mplot\u001b[0m\u001b[1;33m(\u001b[0m\u001b[1;33m)\u001b[0m\u001b[1;33m\u001b[0m\u001b[1;33m\u001b[0m\u001b[0m\n\u001b[0m\u001b[0;32m      6\u001b[0m \u001b[0mutils\u001b[0m\u001b[1;33m.\u001b[0m\u001b[0mhighlight_x_axis\u001b[0m\u001b[1;33m(\u001b[0m\u001b[0max\u001b[0m\u001b[1;33m)\u001b[0m\u001b[1;33m\u001b[0m\u001b[1;33m\u001b[0m\u001b[0m\n\u001b[0;32m      7\u001b[0m utils.plot_curve(ax, dates, [(rates,'.')], ymin=-0.001, ymax=0.002,\n",
      "\u001b[1;31mAttributeError\u001b[0m: module 'utils' has no attribute 'plot'"
     ]
    }
   ],
   "source": [
    "dates = [ today+ql.Period(i,ql.Days) for i in range(0, 365*2+1) ]\n",
    "rates = [ eonia_curve.forwardRate(d, ql.TARGET().advance(d,1,ql.Days),\n",
    "                                  ql.Actual360(), ql.Simple).rate()\n",
    "         for d in dates ]\n",
    "_, ax = utils.plot()\n",
    "utils.highlight_x_axis(ax)\n",
    "utils.plot_curve(ax, dates, [(rates,'.')], ymin=-0.001, ymax=0.002,\n",
    "                 format_rates=True)"
   ]
  },
  {
   "cell_type": "code",
   "execution_count": 31,
   "metadata": {},
   "outputs": [
    {
     "ename": "AttributeError",
     "evalue": "module 'utils' has no attribute 'plot'",
     "output_type": "error",
     "traceback": [
      "\u001b[1;31m---------------------------------------------------------------------------\u001b[0m",
      "\u001b[1;31mAttributeError\u001b[0m                            Traceback (most recent call last)",
      "\u001b[1;32m<ipython-input-31-82afcf3231bc>\u001b[0m in \u001b[0;36m<module>\u001b[1;34m\u001b[0m\n\u001b[0;32m      3\u001b[0m                                   ql.Actual360(), ql.Simple).rate()\n\u001b[0;32m      4\u001b[0m          for d in dates ]\n\u001b[1;32m----> 5\u001b[1;33m \u001b[0m_\u001b[0m\u001b[1;33m,\u001b[0m \u001b[0max\u001b[0m \u001b[1;33m=\u001b[0m \u001b[0mutils\u001b[0m\u001b[1;33m.\u001b[0m\u001b[0mplot\u001b[0m\u001b[1;33m(\u001b[0m\u001b[1;33m)\u001b[0m\u001b[1;33m\u001b[0m\u001b[1;33m\u001b[0m\u001b[0m\n\u001b[0m\u001b[0;32m      6\u001b[0m utils.plot_curve(ax, dates, [(rates,'-')], ymin=0.0, ymax=0.035,\n\u001b[0;32m      7\u001b[0m                  format_rates=True)\n",
      "\u001b[1;31mAttributeError\u001b[0m: module 'utils' has no attribute 'plot'"
     ]
    }
   ],
   "source": [
    "dates = [ today+ql.Period(i,ql.Months) for i in range(0, 12*60+1) ]\n",
    "rates = [ eonia_curve.forwardRate(d, ql.TARGET().advance(d,1,ql.Days),\n",
    "                                  ql.Actual360(), ql.Simple).rate()\n",
    "         for d in dates ]\n",
    "_, ax = utils.plot()\n",
    "utils.plot_curve(ax, dates, [(rates,'-')], ymin=0.0, ymax=0.035,\n",
    "                 format_rates=True)"
   ]
  },
  {
   "cell_type": "code",
   "execution_count": null,
   "metadata": {},
   "outputs": [],
   "source": []
  }
 ],
 "metadata": {
  "kernelspec": {
   "display_name": "Python 3",
   "language": "python",
   "name": "python3"
  },
  "language_info": {
   "codemirror_mode": {
    "name": "ipython",
    "version": 3
   },
   "file_extension": ".py",
   "mimetype": "text/x-python",
   "name": "python",
   "nbconvert_exporter": "python",
   "pygments_lexer": "ipython3",
   "version": "3.8.3"
  }
 },
 "nbformat": 4,
 "nbformat_minor": 4
}
