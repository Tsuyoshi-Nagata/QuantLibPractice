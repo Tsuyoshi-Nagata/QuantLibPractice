{
 "cells": [
  {
   "cell_type": "code",
   "execution_count": 1,
   "metadata": {},
   "outputs": [],
   "source": [
    "import QuantLib as ql\n",
    "import pandas as pd"
   ]
  },
  {
   "cell_type": "code",
   "execution_count": 2,
   "metadata": {},
   "outputs": [
    {
     "name": "stdout",
     "output_type": "stream",
     "text": [
      "March 31st, 2015\n"
     ]
    }
   ],
   "source": [
    "date = ql.Date(31, 3, 2015)\n",
    "print(date)"
   ]
  },
  {
   "cell_type": "code",
   "execution_count": 3,
   "metadata": {},
   "outputs": [
    {
     "name": "stdout",
     "output_type": "stream",
     "text": [
      "3-31-2015\n"
     ]
    }
   ],
   "source": [
    "print(\"%d-%d-%d\" %(date.month(),\n",
    "                   date.dayOfMonth(),\n",
    "                   date.year()))"
   ]
  },
  {
   "cell_type": "code",
   "execution_count": 4,
   "metadata": {},
   "outputs": [
    {
     "data": {
      "text/plain": [
       "True"
      ]
     },
     "execution_count": 4,
     "metadata": {},
     "output_type": "execute_result"
    }
   ],
   "source": [
    "date.weekday() == ql.Tuesday"
   ]
  },
  {
   "cell_type": "code",
   "execution_count": 5,
   "metadata": {},
   "outputs": [
    {
     "data": {
      "text/plain": [
       "QuantLib.QuantLib.Date"
      ]
     },
     "execution_count": 5,
     "metadata": {},
     "output_type": "execute_result"
    }
   ],
   "source": [
    "type(date+1)"
   ]
  },
  {
   "cell_type": "code",
   "execution_count": 6,
   "metadata": {},
   "outputs": [
    {
     "name": "stdout",
     "output_type": "stream",
     "text": [
      "Add a day : April 1st, 2015\n",
      "Subtract a day : March 30th, 2015\n",
      "Add a week : April 7th, 2015\n",
      "Add a month : April 30th, 2015\n",
      "Add a year : March 31st, 2016\n"
     ]
    }
   ],
   "source": [
    "print(\"Add a day : {0}\".format(date + 1))\n",
    "print(\"Subtract a day : {0}\".format(date - 1))\n",
    "print(\"Add a week : {0}\".format(date + ql.Period(1, ql.Weeks)))\n",
    "print(\"Add a month : {0}\".format(date + ql.Period(1, ql.Months)))\n",
    "print(\"Add a year : {0}\".format(date + ql.Period(1, ql.Years)))"
   ]
  },
  {
   "cell_type": "code",
   "execution_count": 7,
   "metadata": {},
   "outputs": [
    {
     "name": "stdout",
     "output_type": "stream",
     "text": [
      "True\n",
      "True\n",
      "True\n",
      "True\n"
     ]
    }
   ],
   "source": [
    "print(date == ql.Date(31, 3, 2015))\n",
    "print(date > ql.Date(30, 3, 2015))\n",
    "print(date < ql.Date(1, 4, 2015))\n",
    "print(date != ql.Date(1, 4, 2015))"
   ]
  },
  {
   "cell_type": "code",
   "execution_count": 9,
   "metadata": {},
   "outputs": [
    {
     "name": "stdout",
     "output_type": "stream",
     "text": [
      "Add 60 days: May 30th, 2015\n",
      "Add 60 business days in US: June 24th, 2015\n",
      "Add 60 business days in Italy: June 26th, 2015\n"
     ]
    }
   ],
   "source": [
    "date = ql.Date(31, 3, 2015)\n",
    "us_calendar = ql.UnitedStates()\n",
    "italy_calendar = ql.Italy()\n",
    "\n",
    "period = ql.Period(60, ql.Days)\n",
    "raw_date = date + period\n",
    "us_date = us_calendar.advance(date, period)\n",
    "italy_date = italy_calendar.advance(date, period)\n",
    "\n",
    "print(\"Add 60 days: {0}\".format(raw_date))\n",
    "print(\"Add 60 business days in US: {0}\".format(us_date))\n",
    "print(\"Add 60 business days in Italy: {0}\".format(italy_date))"
   ]
  },
  {
   "cell_type": "code",
   "execution_count": 11,
   "metadata": {},
   "outputs": [
    {
     "name": "stdout",
     "output_type": "stream",
     "text": [
      "Business days US: 60\n",
      "Business days Italy: 60\n"
     ]
    }
   ],
   "source": [
    "us_busdays = us_calendar.businessDaysBetween(date, us_date)\n",
    "italy_busdays = italy_calendar.businessDaysBetween(date, italy_date)\n",
    "\n",
    "print(\"Business days US: {0}\".format(us_busdays))\n",
    "print(\"Business days Italy: {0}\".format(italy_busdays))"
   ]
  },
  {
   "cell_type": "code",
   "execution_count": 12,
   "metadata": {},
   "outputs": [
    {
     "name": "stdout",
     "output_type": "stream",
     "text": [
      "Add 60 business days in US-Italy: June 29th, 2015\n",
      "Business days US-Italy: 60\n"
     ]
    }
   ],
   "source": [
    "joint_calendar = ql.JointCalendar(us_calendar, italy_calendar)\n",
    "joint_date = joint_calendar.advance(date, period)\n",
    "joint_busdays = joint_calendar.businessDaysBetween(date, joint_date)\n",
    "print(\"Add 60 business days in US-Italy: {0}\".format(joint_date))\n",
    "print(\"Business days US-Italy: {0}\".format(joint_busdays))"
   ]
  },
  {
   "cell_type": "code",
   "execution_count": 14,
   "metadata": {},
   "outputs": [
    {
     "data": {
      "text/html": [
       "<div>\n",
       "<style scoped>\n",
       "    .dataframe tbody tr th:only-of-type {\n",
       "        vertical-align: middle;\n",
       "    }\n",
       "\n",
       "    .dataframe tbody tr th {\n",
       "        vertical-align: top;\n",
       "    }\n",
       "\n",
       "    .dataframe thead th {\n",
       "        text-align: right;\n",
       "    }\n",
       "</style>\n",
       "<table border=\"1\" class=\"dataframe\">\n",
       "  <thead>\n",
       "    <tr style=\"text-align: right;\">\n",
       "      <th></th>\n",
       "      <th>date</th>\n",
       "    </tr>\n",
       "  </thead>\n",
       "  <tbody>\n",
       "    <tr>\n",
       "      <th>0</th>\n",
       "      <td>January 2nd, 2015</td>\n",
       "    </tr>\n",
       "    <tr>\n",
       "      <th>1</th>\n",
       "      <td>February 2nd, 2015</td>\n",
       "    </tr>\n",
       "    <tr>\n",
       "      <th>2</th>\n",
       "      <td>March 2nd, 2015</td>\n",
       "    </tr>\n",
       "    <tr>\n",
       "      <th>3</th>\n",
       "      <td>April 1st, 2015</td>\n",
       "    </tr>\n",
       "    <tr>\n",
       "      <th>4</th>\n",
       "      <td>May 1st, 2015</td>\n",
       "    </tr>\n",
       "    <tr>\n",
       "      <th>5</th>\n",
       "      <td>June 1st, 2015</td>\n",
       "    </tr>\n",
       "    <tr>\n",
       "      <th>6</th>\n",
       "      <td>July 1st, 2015</td>\n",
       "    </tr>\n",
       "    <tr>\n",
       "      <th>7</th>\n",
       "      <td>August 3rd, 2015</td>\n",
       "    </tr>\n",
       "    <tr>\n",
       "      <th>8</th>\n",
       "      <td>September 1st, 2015</td>\n",
       "    </tr>\n",
       "    <tr>\n",
       "      <th>9</th>\n",
       "      <td>October 1st, 2015</td>\n",
       "    </tr>\n",
       "    <tr>\n",
       "      <th>10</th>\n",
       "      <td>November 2nd, 2015</td>\n",
       "    </tr>\n",
       "    <tr>\n",
       "      <th>11</th>\n",
       "      <td>December 1st, 2015</td>\n",
       "    </tr>\n",
       "    <tr>\n",
       "      <th>12</th>\n",
       "      <td>January 4th, 2016</td>\n",
       "    </tr>\n",
       "  </tbody>\n",
       "</table>\n",
       "</div>"
      ],
      "text/plain": [
       "                   date\n",
       "0     January 2nd, 2015\n",
       "1    February 2nd, 2015\n",
       "2       March 2nd, 2015\n",
       "3       April 1st, 2015\n",
       "4         May 1st, 2015\n",
       "5        June 1st, 2015\n",
       "6        July 1st, 2015\n",
       "7      August 3rd, 2015\n",
       "8   September 1st, 2015\n",
       "9     October 1st, 2015\n",
       "10   November 2nd, 2015\n",
       "11   December 1st, 2015\n",
       "12    January 4th, 2016"
      ]
     },
     "execution_count": 14,
     "metadata": {},
     "output_type": "execute_result"
    }
   ],
   "source": [
    "effective_date = ql.Date(1, 1, 2015)\n",
    "termination_date = ql.Date(1, 1, 2016)\n",
    "tenor = ql.Period(ql.Monthly)\n",
    "calendar = ql.UnitedStates()\n",
    "business_convention = ql.Following\n",
    "termination_business_convention = ql.Following\n",
    "date_generation = ql.DateGeneration.Forward\n",
    "end_of_month = False\n",
    "\n",
    "schedule = ql.Schedule(effective_date,\n",
    "                       termination_date,\n",
    "                       tenor,\n",
    "                       calendar,\n",
    "                       business_convention,\n",
    "                       termination_business_convention,\n",
    "                       date_generation,\n",
    "                       end_of_month)\n",
    "pd.DataFrame({'date': list(schedule)})"
   ]
  },
  {
   "cell_type": "code",
   "execution_count": 15,
   "metadata": {},
   "outputs": [
    {
     "data": {
      "text/html": [
       "<div>\n",
       "<style scoped>\n",
       "    .dataframe tbody tr th:only-of-type {\n",
       "        vertical-align: middle;\n",
       "    }\n",
       "\n",
       "    .dataframe tbody tr th {\n",
       "        vertical-align: top;\n",
       "    }\n",
       "\n",
       "    .dataframe thead th {\n",
       "        text-align: right;\n",
       "    }\n",
       "</style>\n",
       "<table border=\"1\" class=\"dataframe\">\n",
       "  <thead>\n",
       "    <tr style=\"text-align: right;\">\n",
       "      <th></th>\n",
       "      <th>date</th>\n",
       "    </tr>\n",
       "  </thead>\n",
       "  <tbody>\n",
       "    <tr>\n",
       "      <th>0</th>\n",
       "      <td>January 2nd, 2015</td>\n",
       "    </tr>\n",
       "    <tr>\n",
       "      <th>1</th>\n",
       "      <td>January 15th, 2015</td>\n",
       "    </tr>\n",
       "    <tr>\n",
       "      <th>2</th>\n",
       "      <td>February 2nd, 2015</td>\n",
       "    </tr>\n",
       "    <tr>\n",
       "      <th>3</th>\n",
       "      <td>March 2nd, 2015</td>\n",
       "    </tr>\n",
       "    <tr>\n",
       "      <th>4</th>\n",
       "      <td>April 1st, 2015</td>\n",
       "    </tr>\n",
       "    <tr>\n",
       "      <th>5</th>\n",
       "      <td>May 1st, 2015</td>\n",
       "    </tr>\n",
       "    <tr>\n",
       "      <th>6</th>\n",
       "      <td>June 1st, 2015</td>\n",
       "    </tr>\n",
       "    <tr>\n",
       "      <th>7</th>\n",
       "      <td>July 1st, 2015</td>\n",
       "    </tr>\n",
       "    <tr>\n",
       "      <th>8</th>\n",
       "      <td>August 3rd, 2015</td>\n",
       "    </tr>\n",
       "    <tr>\n",
       "      <th>9</th>\n",
       "      <td>September 1st, 2015</td>\n",
       "    </tr>\n",
       "    <tr>\n",
       "      <th>10</th>\n",
       "      <td>October 1st, 2015</td>\n",
       "    </tr>\n",
       "    <tr>\n",
       "      <th>11</th>\n",
       "      <td>November 2nd, 2015</td>\n",
       "    </tr>\n",
       "    <tr>\n",
       "      <th>12</th>\n",
       "      <td>December 1st, 2015</td>\n",
       "    </tr>\n",
       "    <tr>\n",
       "      <th>13</th>\n",
       "      <td>January 4th, 2016</td>\n",
       "    </tr>\n",
       "  </tbody>\n",
       "</table>\n",
       "</div>"
      ],
      "text/plain": [
       "                   date\n",
       "0     January 2nd, 2015\n",
       "1    January 15th, 2015\n",
       "2    February 2nd, 2015\n",
       "3       March 2nd, 2015\n",
       "4       April 1st, 2015\n",
       "5         May 1st, 2015\n",
       "6        June 1st, 2015\n",
       "7        July 1st, 2015\n",
       "8      August 3rd, 2015\n",
       "9   September 1st, 2015\n",
       "10    October 1st, 2015\n",
       "11   November 2nd, 2015\n",
       "12   December 1st, 2015\n",
       "13    January 4th, 2016"
      ]
     },
     "execution_count": 15,
     "metadata": {},
     "output_type": "execute_result"
    }
   ],
   "source": [
    " # short stub in the front\n",
    "effective_date = ql.Date(1, 1, 2015)\n",
    "termination_date = ql.Date(1, 1, 2016)\n",
    "first_date = ql.Date(15, 1, 2015)\n",
    "schedule = ql.Schedule(effective_date,\n",
    "                       termination_date,\n",
    "                       tenor,\n",
    "                       calendar,\n",
    "                       business_convention,\n",
    "                       termination_business_convention,\n",
    "                       ql.DateGeneration.Backward,\n",
    "                       end_of_month,\n",
    "                       first_date)\n",
    "\n",
    "pd.DataFrame({'date': list(schedule)})"
   ]
  },
  {
   "cell_type": "code",
   "execution_count": 16,
   "metadata": {},
   "outputs": [
    {
     "data": {
      "text/html": [
       "<div>\n",
       "<style scoped>\n",
       "    .dataframe tbody tr th:only-of-type {\n",
       "        vertical-align: middle;\n",
       "    }\n",
       "\n",
       "    .dataframe tbody tr th {\n",
       "        vertical-align: top;\n",
       "    }\n",
       "\n",
       "    .dataframe thead th {\n",
       "        text-align: right;\n",
       "    }\n",
       "</style>\n",
       "<table border=\"1\" class=\"dataframe\">\n",
       "  <thead>\n",
       "    <tr style=\"text-align: right;\">\n",
       "      <th></th>\n",
       "      <th>date</th>\n",
       "    </tr>\n",
       "  </thead>\n",
       "  <tbody>\n",
       "    <tr>\n",
       "      <th>0</th>\n",
       "      <td>January 2nd, 2015</td>\n",
       "    </tr>\n",
       "    <tr>\n",
       "      <th>1</th>\n",
       "      <td>February 2nd, 2015</td>\n",
       "    </tr>\n",
       "    <tr>\n",
       "      <th>2</th>\n",
       "      <td>March 2nd, 2015</td>\n",
       "    </tr>\n",
       "    <tr>\n",
       "      <th>3</th>\n",
       "      <td>April 1st, 2015</td>\n",
       "    </tr>\n",
       "    <tr>\n",
       "      <th>4</th>\n",
       "      <td>May 1st, 2015</td>\n",
       "    </tr>\n",
       "    <tr>\n",
       "      <th>5</th>\n",
       "      <td>June 1st, 2015</td>\n",
       "    </tr>\n",
       "    <tr>\n",
       "      <th>6</th>\n",
       "      <td>July 1st, 2015</td>\n",
       "    </tr>\n",
       "    <tr>\n",
       "      <th>7</th>\n",
       "      <td>August 3rd, 2015</td>\n",
       "    </tr>\n",
       "    <tr>\n",
       "      <th>8</th>\n",
       "      <td>September 1st, 2015</td>\n",
       "    </tr>\n",
       "    <tr>\n",
       "      <th>9</th>\n",
       "      <td>October 1st, 2015</td>\n",
       "    </tr>\n",
       "    <tr>\n",
       "      <th>10</th>\n",
       "      <td>November 2nd, 2015</td>\n",
       "    </tr>\n",
       "    <tr>\n",
       "      <th>11</th>\n",
       "      <td>December 1st, 2015</td>\n",
       "    </tr>\n",
       "    <tr>\n",
       "      <th>12</th>\n",
       "      <td>December 15th, 2015</td>\n",
       "    </tr>\n",
       "    <tr>\n",
       "      <th>13</th>\n",
       "      <td>January 4th, 2016</td>\n",
       "    </tr>\n",
       "  </tbody>\n",
       "</table>\n",
       "</div>"
      ],
      "text/plain": [
       "                   date\n",
       "0     January 2nd, 2015\n",
       "1    February 2nd, 2015\n",
       "2       March 2nd, 2015\n",
       "3       April 1st, 2015\n",
       "4         May 1st, 2015\n",
       "5        June 1st, 2015\n",
       "6        July 1st, 2015\n",
       "7      August 3rd, 2015\n",
       "8   September 1st, 2015\n",
       "9     October 1st, 2015\n",
       "10   November 2nd, 2015\n",
       "11   December 1st, 2015\n",
       "12  December 15th, 2015\n",
       "13    January 4th, 2016"
      ]
     },
     "execution_count": 16,
     "metadata": {},
     "output_type": "execute_result"
    }
   ],
   "source": [
    "# short stub at the back\n",
    "effective_date = ql.Date(1, 1, 2015)\n",
    "termination_date = ql.Date(1, 1, 2016)\n",
    "penultimate_date = ql.Date(15, 12, 2015)\n",
    "schedule = ql.Schedule(effective_date,\n",
    "                       termination_date,\n",
    "                       tenor,\n",
    "                       calendar,\n",
    "                       business_convention,\n",
    "                       termination_business_convention,\n",
    "                       ql.DateGeneration.Forward,\n",
    "                       end_of_month,\n",
    "                       ql.Date(),\n",
    "                       penultimate_date)\n",
    "\n",
    "pd.DataFrame({'date': list(schedule)})"
   ]
  },
  {
   "cell_type": "code",
   "execution_count": 17,
   "metadata": {},
   "outputs": [
    {
     "data": {
      "text/html": [
       "<div>\n",
       "<style scoped>\n",
       "    .dataframe tbody tr th:only-of-type {\n",
       "        vertical-align: middle;\n",
       "    }\n",
       "\n",
       "    .dataframe tbody tr th {\n",
       "        vertical-align: top;\n",
       "    }\n",
       "\n",
       "    .dataframe thead th {\n",
       "        text-align: right;\n",
       "    }\n",
       "</style>\n",
       "<table border=\"1\" class=\"dataframe\">\n",
       "  <thead>\n",
       "    <tr style=\"text-align: right;\">\n",
       "      <th></th>\n",
       "      <th>date</th>\n",
       "    </tr>\n",
       "  </thead>\n",
       "  <tbody>\n",
       "    <tr>\n",
       "      <th>0</th>\n",
       "      <td>December 15th, 2014</td>\n",
       "    </tr>\n",
       "    <tr>\n",
       "      <th>1</th>\n",
       "      <td>February 2nd, 2015</td>\n",
       "    </tr>\n",
       "    <tr>\n",
       "      <th>2</th>\n",
       "      <td>March 2nd, 2015</td>\n",
       "    </tr>\n",
       "    <tr>\n",
       "      <th>3</th>\n",
       "      <td>April 1st, 2015</td>\n",
       "    </tr>\n",
       "    <tr>\n",
       "      <th>4</th>\n",
       "      <td>May 1st, 2015</td>\n",
       "    </tr>\n",
       "    <tr>\n",
       "      <th>5</th>\n",
       "      <td>June 1st, 2015</td>\n",
       "    </tr>\n",
       "    <tr>\n",
       "      <th>6</th>\n",
       "      <td>July 1st, 2015</td>\n",
       "    </tr>\n",
       "    <tr>\n",
       "      <th>7</th>\n",
       "      <td>August 3rd, 2015</td>\n",
       "    </tr>\n",
       "    <tr>\n",
       "      <th>8</th>\n",
       "      <td>September 1st, 2015</td>\n",
       "    </tr>\n",
       "    <tr>\n",
       "      <th>9</th>\n",
       "      <td>October 1st, 2015</td>\n",
       "    </tr>\n",
       "    <tr>\n",
       "      <th>10</th>\n",
       "      <td>November 2nd, 2015</td>\n",
       "    </tr>\n",
       "    <tr>\n",
       "      <th>11</th>\n",
       "      <td>December 1st, 2015</td>\n",
       "    </tr>\n",
       "    <tr>\n",
       "      <th>12</th>\n",
       "      <td>January 4th, 2016</td>\n",
       "    </tr>\n",
       "  </tbody>\n",
       "</table>\n",
       "</div>"
      ],
      "text/plain": [
       "                   date\n",
       "0   December 15th, 2014\n",
       "1    February 2nd, 2015\n",
       "2       March 2nd, 2015\n",
       "3       April 1st, 2015\n",
       "4         May 1st, 2015\n",
       "5        June 1st, 2015\n",
       "6        July 1st, 2015\n",
       "7      August 3rd, 2015\n",
       "8   September 1st, 2015\n",
       "9     October 1st, 2015\n",
       "10   November 2nd, 2015\n",
       "11   December 1st, 2015\n",
       "12    January 4th, 2016"
      ]
     },
     "execution_count": 17,
     "metadata": {},
     "output_type": "execute_result"
    }
   ],
   "source": [
    "# long stub in the front\n",
    "first_date = ql.Date(1, 2, 2015)\n",
    "effective_date = ql.Date(15, 12, 2014)\n",
    "termination_date = ql.Date(1, 1, 2016)\n",
    "schedule = ql.Schedule(effective_date,\n",
    "                       termination_date,\n",
    "                       tenor,\n",
    "                       calendar,\n",
    "                       business_convention,\n",
    "                       termination_business_convention,\n",
    "                       ql.DateGeneration.Backward,\n",
    "                       end_of_month,\n",
    "                       first_date)\n",
    "\n",
    "pd.DataFrame({'date': list(schedule)})"
   ]
  },
  {
   "cell_type": "code",
   "execution_count": 18,
   "metadata": {},
   "outputs": [
    {
     "data": {
      "text/html": [
       "<div>\n",
       "<style scoped>\n",
       "    .dataframe tbody tr th:only-of-type {\n",
       "        vertical-align: middle;\n",
       "    }\n",
       "\n",
       "    .dataframe tbody tr th {\n",
       "        vertical-align: top;\n",
       "    }\n",
       "\n",
       "    .dataframe thead th {\n",
       "        text-align: right;\n",
       "    }\n",
       "</style>\n",
       "<table border=\"1\" class=\"dataframe\">\n",
       "  <thead>\n",
       "    <tr style=\"text-align: right;\">\n",
       "      <th></th>\n",
       "      <th>date</th>\n",
       "    </tr>\n",
       "  </thead>\n",
       "  <tbody>\n",
       "    <tr>\n",
       "      <th>0</th>\n",
       "      <td>January 2nd, 2015</td>\n",
       "    </tr>\n",
       "    <tr>\n",
       "      <th>1</th>\n",
       "      <td>February 2nd, 2015</td>\n",
       "    </tr>\n",
       "    <tr>\n",
       "      <th>2</th>\n",
       "      <td>March 2nd, 2015</td>\n",
       "    </tr>\n",
       "    <tr>\n",
       "      <th>3</th>\n",
       "      <td>April 1st, 2015</td>\n",
       "    </tr>\n",
       "    <tr>\n",
       "      <th>4</th>\n",
       "      <td>May 1st, 2015</td>\n",
       "    </tr>\n",
       "    <tr>\n",
       "      <th>5</th>\n",
       "      <td>June 1st, 2015</td>\n",
       "    </tr>\n",
       "    <tr>\n",
       "      <th>6</th>\n",
       "      <td>July 1st, 2015</td>\n",
       "    </tr>\n",
       "    <tr>\n",
       "      <th>7</th>\n",
       "      <td>August 3rd, 2015</td>\n",
       "    </tr>\n",
       "    <tr>\n",
       "      <th>8</th>\n",
       "      <td>September 1st, 2015</td>\n",
       "    </tr>\n",
       "    <tr>\n",
       "      <th>9</th>\n",
       "      <td>October 1st, 2015</td>\n",
       "    </tr>\n",
       "    <tr>\n",
       "      <th>10</th>\n",
       "      <td>November 2nd, 2015</td>\n",
       "    </tr>\n",
       "    <tr>\n",
       "      <th>11</th>\n",
       "      <td>December 1st, 2015</td>\n",
       "    </tr>\n",
       "    <tr>\n",
       "      <th>12</th>\n",
       "      <td>January 15th, 2016</td>\n",
       "    </tr>\n",
       "  </tbody>\n",
       "</table>\n",
       "</div>"
      ],
      "text/plain": [
       "                   date\n",
       "0     January 2nd, 2015\n",
       "1    February 2nd, 2015\n",
       "2       March 2nd, 2015\n",
       "3       April 1st, 2015\n",
       "4         May 1st, 2015\n",
       "5        June 1st, 2015\n",
       "6        July 1st, 2015\n",
       "7      August 3rd, 2015\n",
       "8   September 1st, 2015\n",
       "9     October 1st, 2015\n",
       "10   November 2nd, 2015\n",
       "11   December 1st, 2015\n",
       "12   January 15th, 2016"
      ]
     },
     "execution_count": 18,
     "metadata": {},
     "output_type": "execute_result"
    }
   ],
   "source": [
    "# long stub at the back\n",
    "effective_date = ql.Date(1, 1, 2015)\n",
    "penultimate_date = ql.Date(1, 12, 2015)\n",
    "termination_date = ql.Date(15, 1, 2016)\n",
    "schedule = ql.Schedule(effective_date,\n",
    "                       termination_date,\n",
    "                       tenor,\n",
    "                       calendar,\n",
    "                       business_convention,\n",
    "                       termination_business_convention,\n",
    "                       ql.DateGeneration.Forward,\n",
    "                       end_of_month,\n",
    "                       ql.Date(),\n",
    "                       penultimate_date)\n",
    "\n",
    "pd.DataFrame({'date': list(schedule)})"
   ]
  },
  {
   "cell_type": "code",
   "execution_count": 20,
   "metadata": {},
   "outputs": [
    {
     "data": {
      "text/html": [
       "<div>\n",
       "<style scoped>\n",
       "    .dataframe tbody tr th:only-of-type {\n",
       "        vertical-align: middle;\n",
       "    }\n",
       "\n",
       "    .dataframe tbody tr th {\n",
       "        vertical-align: top;\n",
       "    }\n",
       "\n",
       "    .dataframe thead th {\n",
       "        text-align: right;\n",
       "    }\n",
       "</style>\n",
       "<table border=\"1\" class=\"dataframe\">\n",
       "  <thead>\n",
       "    <tr style=\"text-align: right;\">\n",
       "      <th></th>\n",
       "      <th>date</th>\n",
       "    </tr>\n",
       "  </thead>\n",
       "  <tbody>\n",
       "    <tr>\n",
       "      <th>0</th>\n",
       "      <td>January 2nd, 2015</td>\n",
       "    </tr>\n",
       "    <tr>\n",
       "      <th>1</th>\n",
       "      <td>February 2nd, 2015</td>\n",
       "    </tr>\n",
       "    <tr>\n",
       "      <th>2</th>\n",
       "      <td>March 2nd, 2015</td>\n",
       "    </tr>\n",
       "    <tr>\n",
       "      <th>3</th>\n",
       "      <td>April 1st, 2015</td>\n",
       "    </tr>\n",
       "    <tr>\n",
       "      <th>4</th>\n",
       "      <td>May 1st, 2015</td>\n",
       "    </tr>\n",
       "    <tr>\n",
       "      <th>5</th>\n",
       "      <td>June 1st, 2015</td>\n",
       "    </tr>\n",
       "    <tr>\n",
       "      <th>6</th>\n",
       "      <td>July 1st, 2015</td>\n",
       "    </tr>\n",
       "    <tr>\n",
       "      <th>7</th>\n",
       "      <td>August 3rd, 2015</td>\n",
       "    </tr>\n",
       "    <tr>\n",
       "      <th>8</th>\n",
       "      <td>September 1st, 2015</td>\n",
       "    </tr>\n",
       "    <tr>\n",
       "      <th>9</th>\n",
       "      <td>October 1st, 2015</td>\n",
       "    </tr>\n",
       "    <tr>\n",
       "      <th>10</th>\n",
       "      <td>November 2nd, 2015</td>\n",
       "    </tr>\n",
       "    <tr>\n",
       "      <th>11</th>\n",
       "      <td>December 1st, 2015</td>\n",
       "    </tr>\n",
       "    <tr>\n",
       "      <th>12</th>\n",
       "      <td>January 4th, 2016</td>\n",
       "    </tr>\n",
       "  </tbody>\n",
       "</table>\n",
       "</div>"
      ],
      "text/plain": [
       "                   date\n",
       "0     January 2nd, 2015\n",
       "1    February 2nd, 2015\n",
       "2       March 2nd, 2015\n",
       "3       April 1st, 2015\n",
       "4         May 1st, 2015\n",
       "5        June 1st, 2015\n",
       "6        July 1st, 2015\n",
       "7      August 3rd, 2015\n",
       "8   September 1st, 2015\n",
       "9     October 1st, 2015\n",
       "10   November 2nd, 2015\n",
       "11   December 1st, 2015\n",
       "12    January 4th, 2016"
      ]
     },
     "execution_count": 20,
     "metadata": {},
     "output_type": "execute_result"
    }
   ],
   "source": [
    "dates = [ql.Date(2,1,2015), ql.Date(2, 2,2015),\n",
    "                  ql.Date(2,3,2015), ql.Date(1,4,2015),\n",
    "                  ql.Date(1,5,2015), ql.Date(1,6,2015),\n",
    "                  ql.Date(1,7,2015), ql.Date(3,8,2015),\n",
    "                  ql.Date(1,9,2015), ql.Date(1,10,2015),\n",
    "                  ql.Date(2,11,2015), ql.Date(1,12,2015),\n",
    "                  ql.Date(4,1,2016)]\n",
    "rolling_convention = ql.Following\n",
    "schedule = ql.Schedule(dates, calendar,\n",
    "                       rolling_convention)\n",
    "pd.DataFrame({'date': list(schedule)})"
   ]
  },
  {
   "cell_type": "code",
   "execution_count": 21,
   "metadata": {},
   "outputs": [
    {
     "name": "stdout",
     "output_type": "stream",
     "text": [
      "5.000000 % Actual/Actual (ISDA) Annual compounding\n"
     ]
    }
   ],
   "source": [
    "annual_rate = 0.05\n",
    "day_count = ql.ActualActual()\n",
    "compound_type = ql.Compounded\n",
    "frequency = ql.Annual\n",
    "\n",
    "interest_rate = ql.InterestRate(annual_rate,\n",
    "                                day_count,\n",
    "                                compound_type,\n",
    "                                frequency)\n",
    "print(interest_rate)"
   ]
  },
  {
   "cell_type": "code",
   "execution_count": 22,
   "metadata": {},
   "outputs": [
    {
     "name": "stdout",
     "output_type": "stream",
     "text": [
      "1.1025\n",
      "1.1025\n"
     ]
    }
   ],
   "source": [
    "t = 2.0\n",
    "print(interest_rate.compoundFactor(t))\n",
    "print((1+annual_rate)*(1.0+annual_rate))"
   ]
  },
  {
   "cell_type": "code",
   "execution_count": 23,
   "metadata": {},
   "outputs": [
    {
     "name": "stdout",
     "output_type": "stream",
     "text": [
      "0.9070294784580498\n",
      "0.9070294784580498\n"
     ]
    }
   ],
   "source": [
    "print(interest_rate.discountFactor(t))\n",
    "print(1.0/interest_rate.compoundFactor(t))"
   ]
  },
  {
   "cell_type": "code",
   "execution_count": 24,
   "metadata": {},
   "outputs": [
    {
     "name": "stdout",
     "output_type": "stream",
     "text": [
      "4.939015 % Actual/Actual (ISDA) Semiannual compounding\n"
     ]
    }
   ],
   "source": [
    "new_frequency = ql.Semiannual\n",
    "new_interest_rate = interest_rate.equivalentRate(compound_type,\n",
    "                                                 new_frequency, t)\n",
    "print(new_interest_rate)"
   ]
  },
  {
   "cell_type": "code",
   "execution_count": 25,
   "metadata": {},
   "outputs": [
    {
     "name": "stdout",
     "output_type": "stream",
     "text": [
      "0.9070294784580498\n",
      "0.9070294784580495\n"
     ]
    }
   ],
   "source": [
    "print(interest_rate.discountFactor(t))\n",
    "print(new_interest_rate.discountFactor(t))"
   ]
  },
  {
   "cell_type": "code",
   "execution_count": null,
   "metadata": {},
   "outputs": [],
   "source": []
  }
 ],
 "metadata": {
  "kernelspec": {
   "display_name": "Python 3",
   "language": "python",
   "name": "python3"
  },
  "language_info": {
   "codemirror_mode": {
    "name": "ipython",
    "version": 3
   },
   "file_extension": ".py",
   "mimetype": "text/x-python",
   "name": "python",
   "nbconvert_exporter": "python",
   "pygments_lexer": "ipython3",
   "version": "3.8.3"
  }
 },
 "nbformat": 4,
 "nbformat_minor": 4
}
