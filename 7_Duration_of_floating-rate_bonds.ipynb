{
 "cells": [
  {
   "cell_type": "code",
   "execution_count": 1,
   "metadata": {},
   "outputs": [],
   "source": [
    "import QuantLib as ql\n",
    "from pandas import DataFrame"
   ]
  },
  {
   "cell_type": "code",
   "execution_count": 2,
   "metadata": {},
   "outputs": [],
   "source": [
    "today = ql.Date(8,ql.October,2014)\n",
    "ql.Settings.instance().evaluationDate = today"
   ]
  },
  {
   "cell_type": "code",
   "execution_count": 3,
   "metadata": {},
   "outputs": [],
   "source": [
    "forecast_curve = ql.RelinkableYieldTermStructureHandle()\n",
    "forecast_curve.linkTo(ql.FlatForward(today, 0.002, ql.Actual360(),\n",
    "                                     ql.Compounded, ql.Semiannual))"
   ]
  },
  {
   "cell_type": "code",
   "execution_count": 4,
   "metadata": {},
   "outputs": [],
   "source": [
    "index = ql.Euribor6M(forecast_curve)\n",
    "index.addFixing(ql.Date(6,ql.August,2014), 0.002)"
   ]
  },
  {
   "cell_type": "code",
   "execution_count": 5,
   "metadata": {},
   "outputs": [],
   "source": [
    "issueDate = ql.Date(8,ql.August,2014)\n",
    "maturityDate = ql.Date(8,ql.August,2019)\n",
    "schedule = ql.Schedule(issueDate, maturityDate,\n",
    "                       ql.Period(ql.Semiannual), ql.TARGET(),\n",
    "                       ql.Following, ql.Following,\n",
    "                       ql.DateGeneration.Backward, False)\n",
    "bond = ql.FloatingRateBond(settlementDays = 3,\n",
    "                           faceAmount = 100,\n",
    "                           schedule = schedule,\n",
    "                           index = index,\n",
    "                           paymentDayCounter = ql.Actual360())"
   ]
  },
  {
   "cell_type": "code",
   "execution_count": 6,
   "metadata": {},
   "outputs": [
    {
     "data": {
      "text/html": [
       "<div>\n",
       "<style scoped>\n",
       "    .dataframe tbody tr th:only-of-type {\n",
       "        vertical-align: middle;\n",
       "    }\n",
       "\n",
       "    .dataframe tbody tr th {\n",
       "        vertical-align: top;\n",
       "    }\n",
       "\n",
       "    .dataframe thead th {\n",
       "        text-align: right;\n",
       "    }\n",
       "</style>\n",
       "<table border=\"1\" class=\"dataframe\">\n",
       "  <thead>\n",
       "    <tr style=\"text-align: right;\">\n",
       "      <th></th>\n",
       "      <th>date</th>\n",
       "      <th>amount</th>\n",
       "    </tr>\n",
       "  </thead>\n",
       "  <tbody>\n",
       "    <tr>\n",
       "      <th>1</th>\n",
       "      <td>February 9th, 2015</td>\n",
       "      <td>0.102778</td>\n",
       "    </tr>\n",
       "    <tr>\n",
       "      <th>2</th>\n",
       "      <td>August 10th, 2015</td>\n",
       "      <td>0.101112</td>\n",
       "    </tr>\n",
       "    <tr>\n",
       "      <th>3</th>\n",
       "      <td>February 8th, 2016</td>\n",
       "      <td>0.101112</td>\n",
       "    </tr>\n",
       "    <tr>\n",
       "      <th>4</th>\n",
       "      <td>August 8th, 2016</td>\n",
       "      <td>0.101112</td>\n",
       "    </tr>\n",
       "    <tr>\n",
       "      <th>5</th>\n",
       "      <td>February 8th, 2017</td>\n",
       "      <td>0.102223</td>\n",
       "    </tr>\n",
       "    <tr>\n",
       "      <th>6</th>\n",
       "      <td>August 8th, 2017</td>\n",
       "      <td>0.100556</td>\n",
       "    </tr>\n",
       "    <tr>\n",
       "      <th>7</th>\n",
       "      <td>February 8th, 2018</td>\n",
       "      <td>0.102223</td>\n",
       "    </tr>\n",
       "    <tr>\n",
       "      <th>8</th>\n",
       "      <td>August 8th, 2018</td>\n",
       "      <td>0.100556</td>\n",
       "    </tr>\n",
       "    <tr>\n",
       "      <th>9</th>\n",
       "      <td>February 8th, 2019</td>\n",
       "      <td>0.102223</td>\n",
       "    </tr>\n",
       "    <tr>\n",
       "      <th>10</th>\n",
       "      <td>August 8th, 2019</td>\n",
       "      <td>0.100556</td>\n",
       "    </tr>\n",
       "    <tr>\n",
       "      <th>11</th>\n",
       "      <td>August 8th, 2019</td>\n",
       "      <td>100.000000</td>\n",
       "    </tr>\n",
       "  </tbody>\n",
       "</table>\n",
       "</div>"
      ],
      "text/plain": [
       "                  date      amount\n",
       "1   February 9th, 2015    0.102778\n",
       "2    August 10th, 2015    0.101112\n",
       "3   February 8th, 2016    0.101112\n",
       "4     August 8th, 2016    0.101112\n",
       "5   February 8th, 2017    0.102223\n",
       "6     August 8th, 2017    0.100556\n",
       "7   February 8th, 2018    0.102223\n",
       "8     August 8th, 2018    0.100556\n",
       "9   February 8th, 2019    0.102223\n",
       "10    August 8th, 2019    0.100556\n",
       "11    August 8th, 2019  100.000000"
      ]
     },
     "execution_count": 6,
     "metadata": {},
     "output_type": "execute_result"
    }
   ],
   "source": [
    "dates = [ c.date() for c in bond.cashflows() ]\n",
    "cfs = [ c.amount() for c in bond.cashflows() ]\n",
    "DataFrame(list(zip(dates, cfs)),\n",
    "          columns = ('date','amount'),\n",
    "          index = range(1,len(dates)+1))"
   ]
  },
  {
   "cell_type": "code",
   "execution_count": 7,
   "metadata": {},
   "outputs": [
    {
     "name": "stdout",
     "output_type": "stream",
     "text": [
      "4.8609591731332165\n"
     ]
    }
   ],
   "source": [
    "y = ql.InterestRate(0.002, ql.Actual360(), ql.Compounded, ql.Semiannual)\n",
    "print(ql.BondFunctions.duration(bond, y, ql.Duration.Modified))"
   ]
  },
  {
   "cell_type": "code",
   "execution_count": 8,
   "metadata": {},
   "outputs": [
    {
     "name": "stdout",
     "output_type": "stream",
     "text": [
      "100.03665363580889\n"
     ]
    }
   ],
   "source": [
    "y = ql.SimpleQuote(0.002)\n",
    "yield_curve = ql.FlatForward(bond.settlementDate(), ql.QuoteHandle(y),\n",
    "                             ql.Actual360(), ql.Compounded, ql.Semiannual)\n",
    "dates = [ c.date() for c in bond.cashflows() ]\n",
    "cfs = [ c.amount() for c in bond.cashflows() ]\n",
    "discounts = [ yield_curve.discount(d) for d in dates ]\n",
    "P = sum(cf*b for cf,b in zip(cfs,discounts))\n",
    "print(P)"
   ]
  },
  {
   "cell_type": "code",
   "execution_count": 9,
   "metadata": {},
   "outputs": [
    {
     "name": "stdout",
     "output_type": "stream",
     "text": [
      "100.03665363580889\n"
     ]
    }
   ],
   "source": [
    "bond.setPricingEngine(\n",
    "    ql.DiscountingBondEngine(ql.YieldTermStructureHandle(yield_curve)))\n",
    "print(bond.dirtyPrice())"
   ]
  },
  {
   "cell_type": "code",
   "execution_count": 10,
   "metadata": {},
   "outputs": [
    {
     "name": "stdout",
     "output_type": "stream",
     "text": [
      "100.03179102561501\n",
      "100.0415165074028\n"
     ]
    }
   ],
   "source": [
    "dy = 1e-5\n",
    "\n",
    "y.setValue(0.002 + dy)\n",
    "cfs_p = [ c.amount() for c in bond.cashflows() ]\n",
    "discounts_p = [ yield_curve.discount(d) for d in dates ]\n",
    "P_p = sum(cf*b for cf,b in zip(cfs_p,discounts_p))\n",
    "print(P_p)\n",
    "\n",
    "y.setValue(0.002 - dy)\n",
    "cfs_m = [ c.amount() for c in bond.cashflows() ]\n",
    "discounts_m = [ yield_curve.discount(d) for d in dates ]\n",
    "P_m = sum(cf*b for cf,b in zip(cfs_m,discounts_m))\n",
    "print(P_m)\n",
    "\n",
    "y.setValue(0.002)"
   ]
  },
  {
   "cell_type": "code",
   "execution_count": 11,
   "metadata": {},
   "outputs": [
    {
     "name": "stdout",
     "output_type": "stream",
     "text": [
      "4.8609591756253225\n"
     ]
    }
   ],
   "source": [
    "print(-(1/P)*(P_p - P_m)/(2*dy))"
   ]
  },
  {
   "cell_type": "code",
   "execution_count": 12,
   "metadata": {},
   "outputs": [
    {
     "data": {
      "text/html": [
       "<div>\n",
       "<style scoped>\n",
       "    .dataframe tbody tr th:only-of-type {\n",
       "        vertical-align: middle;\n",
       "    }\n",
       "\n",
       "    .dataframe tbody tr th {\n",
       "        vertical-align: top;\n",
       "    }\n",
       "\n",
       "    .dataframe thead th {\n",
       "        text-align: right;\n",
       "    }\n",
       "</style>\n",
       "<table border=\"1\" class=\"dataframe\">\n",
       "  <thead>\n",
       "    <tr style=\"text-align: right;\">\n",
       "      <th></th>\n",
       "      <th>date</th>\n",
       "      <th>amount</th>\n",
       "      <th>discounts</th>\n",
       "      <th>amount (+)</th>\n",
       "      <th>discounts (+)</th>\n",
       "      <th>amount (-)</th>\n",
       "      <th>discounts (-)</th>\n",
       "    </tr>\n",
       "  </thead>\n",
       "  <tbody>\n",
       "    <tr>\n",
       "      <th>1</th>\n",
       "      <td>February 9th, 2015</td>\n",
       "      <td>0.102778</td>\n",
       "      <td>0.999339</td>\n",
       "      <td>0.102778</td>\n",
       "      <td>0.999336</td>\n",
       "      <td>0.102778</td>\n",
       "      <td>0.999343</td>\n",
       "    </tr>\n",
       "    <tr>\n",
       "      <th>2</th>\n",
       "      <td>August 10th, 2015</td>\n",
       "      <td>0.101112</td>\n",
       "      <td>0.998330</td>\n",
       "      <td>0.101112</td>\n",
       "      <td>0.998322</td>\n",
       "      <td>0.101112</td>\n",
       "      <td>0.998338</td>\n",
       "    </tr>\n",
       "    <tr>\n",
       "      <th>3</th>\n",
       "      <td>February 8th, 2016</td>\n",
       "      <td>0.101112</td>\n",
       "      <td>0.997322</td>\n",
       "      <td>0.101112</td>\n",
       "      <td>0.997308</td>\n",
       "      <td>0.101112</td>\n",
       "      <td>0.997335</td>\n",
       "    </tr>\n",
       "    <tr>\n",
       "      <th>4</th>\n",
       "      <td>August 8th, 2016</td>\n",
       "      <td>0.101112</td>\n",
       "      <td>0.996314</td>\n",
       "      <td>0.101112</td>\n",
       "      <td>0.996296</td>\n",
       "      <td>0.101112</td>\n",
       "      <td>0.996333</td>\n",
       "    </tr>\n",
       "    <tr>\n",
       "      <th>5</th>\n",
       "      <td>February 8th, 2017</td>\n",
       "      <td>0.102223</td>\n",
       "      <td>0.995297</td>\n",
       "      <td>0.102223</td>\n",
       "      <td>0.995273</td>\n",
       "      <td>0.102223</td>\n",
       "      <td>0.995320</td>\n",
       "    </tr>\n",
       "    <tr>\n",
       "      <th>6</th>\n",
       "      <td>August 8th, 2017</td>\n",
       "      <td>0.100556</td>\n",
       "      <td>0.994297</td>\n",
       "      <td>0.100556</td>\n",
       "      <td>0.994269</td>\n",
       "      <td>0.100556</td>\n",
       "      <td>0.994325</td>\n",
       "    </tr>\n",
       "    <tr>\n",
       "      <th>7</th>\n",
       "      <td>February 8th, 2018</td>\n",
       "      <td>0.102223</td>\n",
       "      <td>0.993282</td>\n",
       "      <td>0.102223</td>\n",
       "      <td>0.993248</td>\n",
       "      <td>0.102223</td>\n",
       "      <td>0.993315</td>\n",
       "    </tr>\n",
       "    <tr>\n",
       "      <th>8</th>\n",
       "      <td>August 8th, 2018</td>\n",
       "      <td>0.100556</td>\n",
       "      <td>0.992284</td>\n",
       "      <td>0.100556</td>\n",
       "      <td>0.992245</td>\n",
       "      <td>0.100556</td>\n",
       "      <td>0.992322</td>\n",
       "    </tr>\n",
       "    <tr>\n",
       "      <th>9</th>\n",
       "      <td>February 8th, 2019</td>\n",
       "      <td>0.102223</td>\n",
       "      <td>0.991270</td>\n",
       "      <td>0.102223</td>\n",
       "      <td>0.991227</td>\n",
       "      <td>0.102223</td>\n",
       "      <td>0.991314</td>\n",
       "    </tr>\n",
       "    <tr>\n",
       "      <th>10</th>\n",
       "      <td>August 8th, 2019</td>\n",
       "      <td>0.100556</td>\n",
       "      <td>0.990275</td>\n",
       "      <td>0.100556</td>\n",
       "      <td>0.990226</td>\n",
       "      <td>0.100556</td>\n",
       "      <td>0.990323</td>\n",
       "    </tr>\n",
       "    <tr>\n",
       "      <th>11</th>\n",
       "      <td>August 8th, 2019</td>\n",
       "      <td>100.000000</td>\n",
       "      <td>0.990275</td>\n",
       "      <td>100.000000</td>\n",
       "      <td>0.990226</td>\n",
       "      <td>100.000000</td>\n",
       "      <td>0.990323</td>\n",
       "    </tr>\n",
       "  </tbody>\n",
       "</table>\n",
       "</div>"
      ],
      "text/plain": [
       "                  date      amount  discounts  amount (+)  discounts (+)  \\\n",
       "1   February 9th, 2015    0.102778   0.999339    0.102778       0.999336   \n",
       "2    August 10th, 2015    0.101112   0.998330    0.101112       0.998322   \n",
       "3   February 8th, 2016    0.101112   0.997322    0.101112       0.997308   \n",
       "4     August 8th, 2016    0.101112   0.996314    0.101112       0.996296   \n",
       "5   February 8th, 2017    0.102223   0.995297    0.102223       0.995273   \n",
       "6     August 8th, 2017    0.100556   0.994297    0.100556       0.994269   \n",
       "7   February 8th, 2018    0.102223   0.993282    0.102223       0.993248   \n",
       "8     August 8th, 2018    0.100556   0.992284    0.100556       0.992245   \n",
       "9   February 8th, 2019    0.102223   0.991270    0.102223       0.991227   \n",
       "10    August 8th, 2019    0.100556   0.990275    0.100556       0.990226   \n",
       "11    August 8th, 2019  100.000000   0.990275  100.000000       0.990226   \n",
       "\n",
       "    amount (-)  discounts (-)  \n",
       "1     0.102778       0.999343  \n",
       "2     0.101112       0.998338  \n",
       "3     0.101112       0.997335  \n",
       "4     0.101112       0.996333  \n",
       "5     0.102223       0.995320  \n",
       "6     0.100556       0.994325  \n",
       "7     0.102223       0.993315  \n",
       "8     0.100556       0.992322  \n",
       "9     0.102223       0.991314  \n",
       "10    0.100556       0.990323  \n",
       "11  100.000000       0.990323  "
      ]
     },
     "execution_count": 12,
     "metadata": {},
     "output_type": "execute_result"
    }
   ],
   "source": [
    "DataFrame(list(zip(dates, cfs, discounts,\n",
    "                   cfs_p, discounts_p, cfs_m, discounts_m)),\n",
    "          columns = ('date','amount','discounts',\n",
    "                     'amount (+)','discounts (+)',\n",
    "                     'amount (-)','discounts (-)',),\n",
    "          index = range(1,len(dates)+1))"
   ]
  },
  {
   "cell_type": "code",
   "execution_count": 13,
   "metadata": {},
   "outputs": [],
   "source": [
    "forecast_curve.linkTo(yield_curve)"
   ]
  },
  {
   "cell_type": "code",
   "execution_count": 14,
   "metadata": {},
   "outputs": [
    {
     "name": "stdout",
     "output_type": "stream",
     "text": [
      "100.03632329080955\n",
      "100.03698398354918\n"
     ]
    }
   ],
   "source": [
    "y.setValue(0.002 + dy)\n",
    "P_p = bond.dirtyPrice()\n",
    "cfs_p = [ c.amount() for c in bond.cashflows() ]\n",
    "discounts_p = [ yield_curve.discount(d) for d in dates ]\n",
    "print(P_p)\n",
    "\n",
    "y.setValue(0.002 - dy)\n",
    "P_m = bond.dirtyPrice()\n",
    "cfs_m = [ c.amount() for c in bond.cashflows() ]\n",
    "discounts_m = [ yield_curve.discount(d) for d in dates ]\n",
    "print(P_m)\n",
    "\n",
    "y.setValue(0.002)"
   ]
  },
  {
   "cell_type": "code",
   "execution_count": 15,
   "metadata": {},
   "outputs": [
    {
     "data": {
      "text/html": [
       "<div>\n",
       "<style scoped>\n",
       "    .dataframe tbody tr th:only-of-type {\n",
       "        vertical-align: middle;\n",
       "    }\n",
       "\n",
       "    .dataframe tbody tr th {\n",
       "        vertical-align: top;\n",
       "    }\n",
       "\n",
       "    .dataframe thead th {\n",
       "        text-align: right;\n",
       "    }\n",
       "</style>\n",
       "<table border=\"1\" class=\"dataframe\">\n",
       "  <thead>\n",
       "    <tr style=\"text-align: right;\">\n",
       "      <th></th>\n",
       "      <th>date</th>\n",
       "      <th>amount</th>\n",
       "      <th>discounts</th>\n",
       "      <th>amount (+)</th>\n",
       "      <th>discounts (+)</th>\n",
       "      <th>amount (-)</th>\n",
       "      <th>discounts (-)</th>\n",
       "    </tr>\n",
       "  </thead>\n",
       "  <tbody>\n",
       "    <tr>\n",
       "      <th>1</th>\n",
       "      <td>February 9th, 2015</td>\n",
       "      <td>0.102778</td>\n",
       "      <td>0.999339</td>\n",
       "      <td>0.102778</td>\n",
       "      <td>0.999336</td>\n",
       "      <td>0.102778</td>\n",
       "      <td>0.999343</td>\n",
       "    </tr>\n",
       "    <tr>\n",
       "      <th>2</th>\n",
       "      <td>August 10th, 2015</td>\n",
       "      <td>0.101112</td>\n",
       "      <td>0.998330</td>\n",
       "      <td>0.101617</td>\n",
       "      <td>0.998322</td>\n",
       "      <td>0.100606</td>\n",
       "      <td>0.998338</td>\n",
       "    </tr>\n",
       "    <tr>\n",
       "      <th>3</th>\n",
       "      <td>February 8th, 2016</td>\n",
       "      <td>0.101112</td>\n",
       "      <td>0.997322</td>\n",
       "      <td>0.101617</td>\n",
       "      <td>0.997308</td>\n",
       "      <td>0.100606</td>\n",
       "      <td>0.997335</td>\n",
       "    </tr>\n",
       "    <tr>\n",
       "      <th>4</th>\n",
       "      <td>August 8th, 2016</td>\n",
       "      <td>0.101112</td>\n",
       "      <td>0.996314</td>\n",
       "      <td>0.101617</td>\n",
       "      <td>0.996296</td>\n",
       "      <td>0.100606</td>\n",
       "      <td>0.996333</td>\n",
       "    </tr>\n",
       "    <tr>\n",
       "      <th>5</th>\n",
       "      <td>February 8th, 2017</td>\n",
       "      <td>0.102223</td>\n",
       "      <td>0.995297</td>\n",
       "      <td>0.102734</td>\n",
       "      <td>0.995273</td>\n",
       "      <td>0.101712</td>\n",
       "      <td>0.995320</td>\n",
       "    </tr>\n",
       "    <tr>\n",
       "      <th>6</th>\n",
       "      <td>August 8th, 2017</td>\n",
       "      <td>0.100556</td>\n",
       "      <td>0.994297</td>\n",
       "      <td>0.101059</td>\n",
       "      <td>0.994269</td>\n",
       "      <td>0.100053</td>\n",
       "      <td>0.994325</td>\n",
       "    </tr>\n",
       "    <tr>\n",
       "      <th>7</th>\n",
       "      <td>February 8th, 2018</td>\n",
       "      <td>0.102223</td>\n",
       "      <td>0.993282</td>\n",
       "      <td>0.102734</td>\n",
       "      <td>0.993248</td>\n",
       "      <td>0.101712</td>\n",
       "      <td>0.993315</td>\n",
       "    </tr>\n",
       "    <tr>\n",
       "      <th>8</th>\n",
       "      <td>August 8th, 2018</td>\n",
       "      <td>0.100556</td>\n",
       "      <td>0.992284</td>\n",
       "      <td>0.101059</td>\n",
       "      <td>0.992245</td>\n",
       "      <td>0.100053</td>\n",
       "      <td>0.992322</td>\n",
       "    </tr>\n",
       "    <tr>\n",
       "      <th>9</th>\n",
       "      <td>February 8th, 2019</td>\n",
       "      <td>0.102223</td>\n",
       "      <td>0.991270</td>\n",
       "      <td>0.102734</td>\n",
       "      <td>0.991227</td>\n",
       "      <td>0.101712</td>\n",
       "      <td>0.991314</td>\n",
       "    </tr>\n",
       "    <tr>\n",
       "      <th>10</th>\n",
       "      <td>August 8th, 2019</td>\n",
       "      <td>0.100556</td>\n",
       "      <td>0.990275</td>\n",
       "      <td>0.101059</td>\n",
       "      <td>0.990226</td>\n",
       "      <td>0.100053</td>\n",
       "      <td>0.990323</td>\n",
       "    </tr>\n",
       "    <tr>\n",
       "      <th>11</th>\n",
       "      <td>August 8th, 2019</td>\n",
       "      <td>100.000000</td>\n",
       "      <td>0.990275</td>\n",
       "      <td>100.000000</td>\n",
       "      <td>0.990226</td>\n",
       "      <td>100.000000</td>\n",
       "      <td>0.990323</td>\n",
       "    </tr>\n",
       "  </tbody>\n",
       "</table>\n",
       "</div>"
      ],
      "text/plain": [
       "                  date      amount  discounts  amount (+)  discounts (+)  \\\n",
       "1   February 9th, 2015    0.102778   0.999339    0.102778       0.999336   \n",
       "2    August 10th, 2015    0.101112   0.998330    0.101617       0.998322   \n",
       "3   February 8th, 2016    0.101112   0.997322    0.101617       0.997308   \n",
       "4     August 8th, 2016    0.101112   0.996314    0.101617       0.996296   \n",
       "5   February 8th, 2017    0.102223   0.995297    0.102734       0.995273   \n",
       "6     August 8th, 2017    0.100556   0.994297    0.101059       0.994269   \n",
       "7   February 8th, 2018    0.102223   0.993282    0.102734       0.993248   \n",
       "8     August 8th, 2018    0.100556   0.992284    0.101059       0.992245   \n",
       "9   February 8th, 2019    0.102223   0.991270    0.102734       0.991227   \n",
       "10    August 8th, 2019    0.100556   0.990275    0.101059       0.990226   \n",
       "11    August 8th, 2019  100.000000   0.990275  100.000000       0.990226   \n",
       "\n",
       "    amount (-)  discounts (-)  \n",
       "1     0.102778       0.999343  \n",
       "2     0.100606       0.998338  \n",
       "3     0.100606       0.997335  \n",
       "4     0.100606       0.996333  \n",
       "5     0.101712       0.995320  \n",
       "6     0.100053       0.994325  \n",
       "7     0.101712       0.993315  \n",
       "8     0.100053       0.992322  \n",
       "9     0.101712       0.991314  \n",
       "10    0.100053       0.990323  \n",
       "11  100.000000       0.990323  "
      ]
     },
     "execution_count": 15,
     "metadata": {},
     "output_type": "execute_result"
    }
   ],
   "source": [
    "DataFrame(list(zip(dates, cfs, discounts, cfs_p,\n",
    "                   discounts_p, cfs_m, discounts_m)),\n",
    "          columns = ('date','amount','discounts',\n",
    "                     'amount (+)','discounts (+)',\n",
    "                     'amount (-)','discounts (-)',),\n",
    "          index = range(1,len(dates)+1))"
   ]
  },
  {
   "cell_type": "code",
   "execution_count": 16,
   "metadata": {},
   "outputs": [
    {
     "name": "stdout",
     "output_type": "stream",
     "text": [
      "0.33022533022465994\n"
     ]
    }
   ],
   "source": [
    "print(-(1/P)*(P_p - P_m)/(2*dy))"
   ]
  },
  {
   "cell_type": "code",
   "execution_count": 17,
   "metadata": {},
   "outputs": [],
   "source": [
    "discount_curve = ql.ZeroSpreadedTermStructure(\n",
    "    forecast_curve,\n",
    "    ql.QuoteHandle(ql.SimpleQuote(0.001)))\n",
    "bond.setPricingEngine(\n",
    "    ql.DiscountingBondEngine(ql.YieldTermStructureHandle(discount_curve)))"
   ]
  },
  {
   "cell_type": "code",
   "execution_count": 18,
   "metadata": {},
   "outputs": [
    {
     "name": "stdout",
     "output_type": "stream",
     "text": [
      "99.55107926688962\n"
     ]
    }
   ],
   "source": [
    "P = bond.dirtyPrice()\n",
    "cfs = [ c.amount() for c in bond.cashflows() ]\n",
    "discounts = [ discount_curve.discount(d) for d in dates ]\n",
    "print(P)"
   ]
  },
  {
   "cell_type": "code",
   "execution_count": 19,
   "metadata": {},
   "outputs": [
    {
     "data": {
      "text/html": [
       "<div>\n",
       "<style scoped>\n",
       "    .dataframe tbody tr th:only-of-type {\n",
       "        vertical-align: middle;\n",
       "    }\n",
       "\n",
       "    .dataframe tbody tr th {\n",
       "        vertical-align: top;\n",
       "    }\n",
       "\n",
       "    .dataframe thead th {\n",
       "        text-align: right;\n",
       "    }\n",
       "</style>\n",
       "<table border=\"1\" class=\"dataframe\">\n",
       "  <thead>\n",
       "    <tr style=\"text-align: right;\">\n",
       "      <th></th>\n",
       "      <th>date</th>\n",
       "      <th>amount</th>\n",
       "      <th>discount</th>\n",
       "    </tr>\n",
       "  </thead>\n",
       "  <tbody>\n",
       "    <tr>\n",
       "      <th>1</th>\n",
       "      <td>February 9th, 2015</td>\n",
       "      <td>0.102778</td>\n",
       "      <td>0.999009</td>\n",
       "    </tr>\n",
       "    <tr>\n",
       "      <th>2</th>\n",
       "      <td>August 10th, 2015</td>\n",
       "      <td>0.101112</td>\n",
       "      <td>0.997496</td>\n",
       "    </tr>\n",
       "    <tr>\n",
       "      <th>3</th>\n",
       "      <td>February 8th, 2016</td>\n",
       "      <td>0.101112</td>\n",
       "      <td>0.995984</td>\n",
       "    </tr>\n",
       "    <tr>\n",
       "      <th>4</th>\n",
       "      <td>August 8th, 2016</td>\n",
       "      <td>0.101112</td>\n",
       "      <td>0.994475</td>\n",
       "    </tr>\n",
       "    <tr>\n",
       "      <th>5</th>\n",
       "      <td>February 8th, 2017</td>\n",
       "      <td>0.102223</td>\n",
       "      <td>0.992952</td>\n",
       "    </tr>\n",
       "    <tr>\n",
       "      <th>6</th>\n",
       "      <td>August 8th, 2017</td>\n",
       "      <td>0.100556</td>\n",
       "      <td>0.991456</td>\n",
       "    </tr>\n",
       "    <tr>\n",
       "      <th>7</th>\n",
       "      <td>February 8th, 2018</td>\n",
       "      <td>0.102223</td>\n",
       "      <td>0.989938</td>\n",
       "    </tr>\n",
       "    <tr>\n",
       "      <th>8</th>\n",
       "      <td>August 8th, 2018</td>\n",
       "      <td>0.100556</td>\n",
       "      <td>0.988446</td>\n",
       "    </tr>\n",
       "    <tr>\n",
       "      <th>9</th>\n",
       "      <td>February 8th, 2019</td>\n",
       "      <td>0.102223</td>\n",
       "      <td>0.986932</td>\n",
       "    </tr>\n",
       "    <tr>\n",
       "      <th>10</th>\n",
       "      <td>August 8th, 2019</td>\n",
       "      <td>0.100556</td>\n",
       "      <td>0.985445</td>\n",
       "    </tr>\n",
       "    <tr>\n",
       "      <th>11</th>\n",
       "      <td>August 8th, 2019</td>\n",
       "      <td>100.000000</td>\n",
       "      <td>0.985445</td>\n",
       "    </tr>\n",
       "  </tbody>\n",
       "</table>\n",
       "</div>"
      ],
      "text/plain": [
       "                  date      amount  discount\n",
       "1   February 9th, 2015    0.102778  0.999009\n",
       "2    August 10th, 2015    0.101112  0.997496\n",
       "3   February 8th, 2016    0.101112  0.995984\n",
       "4     August 8th, 2016    0.101112  0.994475\n",
       "5   February 8th, 2017    0.102223  0.992952\n",
       "6     August 8th, 2017    0.100556  0.991456\n",
       "7   February 8th, 2018    0.102223  0.989938\n",
       "8     August 8th, 2018    0.100556  0.988446\n",
       "9   February 8th, 2019    0.102223  0.986932\n",
       "10    August 8th, 2019    0.100556  0.985445\n",
       "11    August 8th, 2019  100.000000  0.985445"
      ]
     },
     "execution_count": 19,
     "metadata": {},
     "output_type": "execute_result"
    }
   ],
   "source": [
    "DataFrame(list(zip(dates, cfs, discounts)),\n",
    "          columns = ('date','amount','discount'),\n",
    "          index = range(1,len(dates)+1))"
   ]
  },
  {
   "cell_type": "code",
   "execution_count": 20,
   "metadata": {},
   "outputs": [
    {
     "name": "stdout",
     "output_type": "stream",
     "text": [
      "99.55075966035385\n",
      "99.55139887578544\n"
     ]
    }
   ],
   "source": [
    "y.setValue(0.002 + dy)\n",
    "P_p = bond.dirtyPrice()\n",
    "print(P_p)\n",
    "\n",
    "y.setValue(0.002 - dy)\n",
    "P_m = bond.dirtyPrice()\n",
    "print(P_m)\n",
    "\n",
    "y.setValue(0.002)"
   ]
  },
  {
   "cell_type": "code",
   "execution_count": 21,
   "metadata": {},
   "outputs": [
    {
     "name": "stdout",
     "output_type": "stream",
     "text": [
      "0.3210489711903113\n"
     ]
    }
   ],
   "source": [
    "print(-(1/P)*(P_p - P_m)/(2*dy))"
   ]
  },
  {
   "cell_type": "code",
   "execution_count": null,
   "metadata": {},
   "outputs": [],
   "source": []
  }
 ],
 "metadata": {
  "kernelspec": {
   "display_name": "Python 3",
   "language": "python",
   "name": "python3"
  },
  "language_info": {
   "codemirror_mode": {
    "name": "ipython",
    "version": 3
   },
   "file_extension": ".py",
   "mimetype": "text/x-python",
   "name": "python",
   "nbconvert_exporter": "python",
   "pygments_lexer": "ipython3",
   "version": "3.8.3"
  }
 },
 "nbformat": 4,
 "nbformat_minor": 4
}
